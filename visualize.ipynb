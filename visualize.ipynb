{
 "cells": [
  {
   "cell_type": "code",
   "execution_count": 2,
   "id": "8df74f9c-9857-4dda-8be2-754bd924e00d",
   "metadata": {},
   "outputs": [],
   "source": [
    "import torch\n",
    "import torch.nn as nn\n",
    "import torchvision.transforms as T\n",
    "from torch.utils.data import Dataset, DataLoader\n",
    "from torch.optim.lr_scheduler import ReduceLROnPlateau\n",
    "from torchvision.models import resnet50\n",
    "import numpy as np\n",
    "import pandas as pd\n",
    "import cv2\n",
    "import os\n",
    "import pickle\n",
    "from nltk.translate.bleu_score import corpus_bleu, sentence_bleu\n",
    "import torch.nn.functional as F\n",
    "from torch.utils.tensorboard import SummaryWriter\n",
    "from PIL import Image\n",
    "import matplotlib.pyplot as plt\n",
    "from sentence_transformers import SentenceTransformer\n",
    "from torchsummary import summary\n",
    "from tensorboard.plugins import projector\n",
    "from scipy.optimize import linear_sum_assignment\n",
    "from utils.utils import *\n",
    "from utils.assignment import *\n",
    "from utils.latent_loss import *\n",
    "from model.model import *"
   ]
  },
  {
   "cell_type": "code",
   "execution_count": 43,
   "id": "9f3fc7f0-253f-41f4-9bd7-0e6ca2e556dc",
   "metadata": {},
   "outputs": [],
   "source": [
    "class SetPredictLSP(nn.Module):\n",
    "    def __init__(self, device, hidden_dim=384, nhead=4, nlayers=3, max_sentence=18, vocab_size=5439):\n",
    "        super().__init__()\n",
    "        \n",
    "        self.hidden_dim = hidden_dim\n",
    "        self.cnn_text = CNN_Text(device=device)\n",
    "        self.hungarian = MSEGCRLatentLoss()\n",
    "        \n",
    "        self.decoder = nn.TransformerDecoderLayer(d_model=hidden_dim, nhead=nhead)\n",
    "        self.transformer_decoder = nn.TransformerDecoder(self.decoder, nlayers)\n",
    "        \n",
    "        self.linear = nn.Linear(hidden_dim, 128)\n",
    "        self.output = nn.Linear(128, vocab_size)\n",
    "        \n",
    "        self.mlp = MLP().to(device)\n",
    "        self.mlp.load_state_dict(torch.load('model/length_model_best.pt'))\n",
    "        \n",
    "        self.max_t = max_sentence\n",
    "        \n",
    "    def forward(self, X, y, len_y):\n",
    "        '''\n",
    "        X is image (bs, 3, H, W)\n",
    "        R's shape is (bs, length, hidden_dim)\n",
    "        feat will be use for the transformer decoder\n",
    "        '''\n",
    "        bs = X.shape[0]\n",
    "        R, feat = self.cnn_text(X) \n",
    "        \n",
    "        R = flat_by_lengths(R, (torch.ones((bs))*20).to(device))\n",
    "        y = flat_by_lengths_max_t(y, len_y, self.max_t)\n",
    "        R_pi, R_i, loss = self.hungarian.forward(y, len_y, R, (torch.ones(bs, dtype=int)*20).to(device))\n",
    "        \n",
    "        R_pi = chunk_pad_by_lengths(R_pi, len_y, batch_first = False)\n",
    "        R = self.transformer_decoder(R_pi, feat).transpose(0, 1)\n",
    "        R = flat_by_lengths(R, len_y)\n",
    "        x = self.linear(R)\n",
    "        output = self.output(x)\n",
    "        \n",
    "        return output, loss\n",
    "    \n",
    "    def predict(self, X):\n",
    "        R, feat = self.cnn_text(X) \n",
    "        len_R = self.mlp(X)\n",
    "        len_R = torch.round(len_R).flatten()\n",
    "        \n",
    "        R = self.transformer_decoder(R.transpose(0, 1), feat).transpose(0, 1)\n",
    "        R = flat_by_lengths_max_t(R, len_R, 20)\n",
    "        x = self.linear(R)\n",
    "        output = self.output(x)\n",
    "        \n",
    "        return output, len_R"
   ]
  },
  {
   "cell_type": "code",
   "execution_count": 7,
   "id": "6eb1b2e2-3860-4e73-bbea-440d693b011e",
   "metadata": {},
   "outputs": [],
   "source": [
    "model = SetPredictLSP(device).to(device)"
   ]
  },
  {
   "cell_type": "code",
   "execution_count": 8,
   "id": "a9f039c5-dde9-49a4-bfef-af1fa03ea1b1",
   "metadata": {},
   "outputs": [],
   "source": [
    "for X, y, id_, len_y in train_loader:\n",
    "    break"
   ]
  },
  {
   "cell_type": "code",
   "execution_count": 9,
   "id": "81a8e174-5b48-45f0-9d8b-1bca6ad78a13",
   "metadata": {},
   "outputs": [
    {
     "name": "stdout",
     "output_type": "stream",
     "text": [
      "torch.Size([81, 3, 256, 256])\n"
     ]
    }
   ],
   "source": [
    "print(X.shape)"
   ]
  },
  {
   "cell_type": "code",
   "execution_count": 10,
   "id": "ef0aac3e-1734-40c1-8fdd-06e956d2f61f",
   "metadata": {},
   "outputs": [],
   "source": [
    "output, len_R = model.predict(X.to(device))"
   ]
  },
  {
   "cell_type": "code",
   "execution_count": 16,
   "id": "0877f811-436a-4e2a-80f1-846ae9aa1f46",
   "metadata": {},
   "outputs": [],
   "source": [
    "R_pi = chunk_pad_by_lengths(output, torch.Tensor.int(len_R.flatten()), batch_first = True)"
   ]
  },
  {
   "cell_type": "code",
   "execution_count": 17,
   "id": "0eb97c66-65e7-457a-a024-5a771d56e618",
   "metadata": {},
   "outputs": [
    {
     "data": {
      "text/plain": [
       "torch.Size([81, 7, 5439])"
      ]
     },
     "execution_count": 17,
     "metadata": {},
     "output_type": "execute_result"
    }
   ],
   "source": [
    "R_pi.shape"
   ]
  },
  {
   "cell_type": "code",
   "execution_count": 28,
   "id": "0aac7dc1-3a08-453f-8ba6-310fa628fcb0",
   "metadata": {},
   "outputs": [],
   "source": [
    "test = torch.argmax(R_pi[0][:int(len_R[0])], axis=1)."
   ]
  },
  {
   "cell_type": "code",
   "execution_count": 30,
   "id": "32dfc873-9b2c-456b-ae61-282f0f01158d",
   "metadata": {},
   "outputs": [],
   "source": [
    "test = test.cpu().detach().numpy()"
   ]
  },
  {
   "cell_type": "code",
   "execution_count": 31,
   "id": "59ae3bea-07c2-42f8-85da-87b44721e54f",
   "metadata": {},
   "outputs": [
    {
     "data": {
      "text/plain": [
       "['there is spondylosis',\n",
       " 'mediastinum normal',\n",
       " 'negative for pneumothorax or pleural effusion']"
      ]
     },
     "execution_count": 31,
     "metadata": {},
     "output_type": "execute_result"
    }
   ],
   "source": [
    "decode = lambda x: decoder[x]\n",
    "\n",
    "list(map(decode, test))"
   ]
  },
  {
   "cell_type": "code",
   "execution_count": 39,
   "id": "b33baa21-7254-4d22-adc3-eb0bb077e629",
   "metadata": {},
   "outputs": [
    {
     "ename": "IndexError",
     "evalue": "Dimension out of range (expected to be in range of [-1, 0], but got 1)",
     "output_type": "error",
     "traceback": [
      "\u001b[1;31m---------------------------------------------------------------------------\u001b[0m",
      "\u001b[1;31mIndexError\u001b[0m                                Traceback (most recent call last)",
      "\u001b[1;32m~\\AppData\\Local\\Temp/ipykernel_18300/2419872951.py\u001b[0m in \u001b[0;36m<module>\u001b[1;34m\u001b[0m\n\u001b[1;32m----> 1\u001b[1;33m \u001b[0mid__\u001b[0m \u001b[1;33m=\u001b[0m \u001b[0mtorch\u001b[0m\u001b[1;33m.\u001b[0m\u001b[0margmax\u001b[0m\u001b[1;33m(\u001b[0m\u001b[0mid_\u001b[0m\u001b[1;33m[\u001b[0m\u001b[1;36m0\u001b[0m\u001b[1;33m]\u001b[0m\u001b[1;33m[\u001b[0m\u001b[1;33m:\u001b[0m\u001b[0mint\u001b[0m\u001b[1;33m(\u001b[0m\u001b[0mlen_y\u001b[0m\u001b[1;33m[\u001b[0m\u001b[1;36m0\u001b[0m\u001b[1;33m]\u001b[0m\u001b[1;33m)\u001b[0m\u001b[1;33m]\u001b[0m\u001b[1;33m,\u001b[0m \u001b[0maxis\u001b[0m\u001b[1;33m=\u001b[0m\u001b[1;36m1\u001b[0m\u001b[1;33m)\u001b[0m\u001b[1;33m\u001b[0m\u001b[1;33m\u001b[0m\u001b[0m\n\u001b[0m",
      "\u001b[1;31mIndexError\u001b[0m: Dimension out of range (expected to be in range of [-1, 0], but got 1)"
     ]
    }
   ],
   "source": [
    "id__ = torch.argmax(id_[0][:int(len_y[0])], axis=1)"
   ]
  },
  {
   "cell_type": "code",
   "execution_count": 42,
   "id": "480623e2-d7ed-4ad3-8f5f-50ff8732f65b",
   "metadata": {},
   "outputs": [
    {
     "data": {
      "text/plain": [
       "['lungs are clear',\n",
       " 'no focal consolidation effusion or pneumothorax',\n",
       " 'interval resolution of left effusion',\n",
       " 'central venous dialysis catheter unchanged in position',\n",
       " 'heart and mediastinal contours are normal',\n",
       " 'osseous structures intact']"
      ]
     },
     "execution_count": 42,
     "metadata": {},
     "output_type": "execute_result"
    }
   ],
   "source": [
    "list(map(decode, id_[0][:int(len_y[0])].cpu().detach().numpy()))"
   ]
  },
  {
   "cell_type": "code",
   "execution_count": 36,
   "id": "d24af9cd-db77-46d1-bda7-43f2bc45a91f",
   "metadata": {},
   "outputs": [
    {
     "data": {
      "text/plain": [
       "tensor(6, dtype=torch.int32)"
      ]
     },
     "execution_count": 36,
     "metadata": {},
     "output_type": "execute_result"
    }
   ],
   "source": [
    "len_y[0]"
   ]
  },
  {
   "cell_type": "code",
   "execution_count": null,
   "id": "2d48f935-16ee-4f75-b351-ebb4c2199f01",
   "metadata": {},
   "outputs": [
    {
     "data": {
      "text/plain": [
       "tensor(311., device='cuda:0', grad_fn=<SumBackward0>)"
      ]
     },
     "execution_count": 30,
     "metadata": {},
     "output_type": "execute_result"
    }
   ],
   "source": [
    "len_R.sum()"
   ]
  },
  {
   "cell_type": "code",
   "execution_count": null,
   "id": "1a2c971a-64f8-4add-afd0-de807a918958",
   "metadata": {},
   "outputs": [],
   "source": [
    "references = [[['this', 'is', 'a', 'test'], ['this', 'is' 'test']]]\n",
    "candidates = [['this', 'is', 'a', 'test']]\n",
    "score = corpus_bleu(references, candidates)\n",
    "print(score)"
   ]
  },
  {
   "cell_type": "code",
   "execution_count": null,
   "id": "e37afdfb-c236-4803-8425-d8e70d0aef3a",
   "metadata": {},
   "outputs": [],
   "source": [
    "test = torch.argmax(R_pi[0][:int(len_R[0])], axis=1)."
   ]
  },
  {
   "cell_type": "code",
   "execution_count": null,
   "id": "d712d947-b6d4-4436-9981-ca76fffd3ada",
   "metadata": {},
   "outputs": [],
   "source": [
    "decode = lambda x: decoder[x]\n",
    "\n",
    "list(map(decode, test))"
   ]
  },
  {
   "cell_type": "code",
   "execution_count": 5,
   "id": "f50f1507-8166-4857-a7fe-ce48cbf106a7",
   "metadata": {},
   "outputs": [],
   "source": [
    "a = ['there is spondylosis',\n",
    " 'mediastinum normal',\n",
    " 'negative for pneumothorax or pleural effusion']\n",
    "     \n",
    "b = ['lungs are clear',\n",
    " 'no focal consolidation effusion or pneumothorax',\n",
    " 'interval resolution of left effusion',\n",
    " 'central venous dialysis catheter unchanged in position',\n",
    " 'heart and mediastinal contours are normal',\n",
    " 'osseous structures intact']"
   ]
  },
  {
   "cell_type": "code",
   "execution_count": 6,
   "id": "7701f65e-1889-410f-87d7-e9bf62be0316",
   "metadata": {},
   "outputs": [],
   "source": [
    "split = lambda x: x.split()\n",
    "\n",
    "a = list(map(split, a))\n",
    "b = list(map(split, b))"
   ]
  },
  {
   "cell_type": "code",
   "execution_count": 11,
   "id": "24a32617-b2a8-4b25-b7e9-502218f7bef7",
   "metadata": {},
   "outputs": [
    {
     "data": {
      "text/plain": [
       "[['there', 'is', 'spondylosis'],\n",
       " ['mediastinum', 'normal'],\n",
       " ['negative', 'for', 'pneumothorax', 'or', 'pleural', 'effusion']]"
      ]
     },
     "execution_count": 11,
     "metadata": {},
     "output_type": "execute_result"
    }
   ],
   "source": [
    "a"
   ]
  },
  {
   "cell_type": "code",
   "execution_count": 8,
   "id": "d5ff91ea-6b53-4c03-b1fd-929373c84421",
   "metadata": {},
   "outputs": [
    {
     "data": {
      "text/plain": [
       "[['lungs', 'are', 'clear'],\n",
       " ['no', 'focal', 'consolidation', 'effusion', 'or', 'pneumothorax'],\n",
       " ['interval', 'resolution', 'of', 'left', 'effusion'],\n",
       " ['central', 'venous', 'dialysis', 'catheter', 'unchanged', 'in', 'position'],\n",
       " ['heart', 'and', 'mediastinal', 'contours', 'are', 'normal'],\n",
       " ['osseous', 'structures', 'intact']]"
      ]
     },
     "execution_count": 8,
     "metadata": {},
     "output_type": "execute_result"
    }
   ],
   "source": [
    "b"
   ]
  },
  {
   "cell_type": "code",
   "execution_count": 12,
   "id": "e5870d4a-cf57-47e7-b8d8-8239ec024e0d",
   "metadata": {},
   "outputs": [],
   "source": [
    "a = [a]"
   ]
  },
  {
   "cell_type": "code",
   "execution_count": 13,
   "id": "dd7b4b00-5148-4045-810e-20e84278ac31",
   "metadata": {},
   "outputs": [
    {
     "data": {
      "text/plain": [
       "[[['there', 'is', 'spondylosis'],\n",
       "  ['mediastinum', 'normal'],\n",
       "  ['negative', 'for', 'pneumothorax', 'or', 'pleural', 'effusion']]]"
      ]
     },
     "execution_count": 13,
     "metadata": {},
     "output_type": "execute_result"
    }
   ],
   "source": [
    "a"
   ]
  },
  {
   "cell_type": "code",
   "execution_count": 14,
   "id": "76702e3e-ad0b-4891-86e1-c4b778b4f6a4",
   "metadata": {},
   "outputs": [
    {
     "ename": "AssertionError",
     "evalue": "The number of hypotheses and their reference(s) should be the same ",
     "output_type": "error",
     "traceback": [
      "\u001b[1;31m---------------------------------------------------------------------------\u001b[0m",
      "\u001b[1;31mAssertionError\u001b[0m                            Traceback (most recent call last)",
      "\u001b[1;32m~\\AppData\\Local\\Temp/ipykernel_19816/1866317465.py\u001b[0m in \u001b[0;36m<module>\u001b[1;34m\u001b[0m\n\u001b[1;32m----> 1\u001b[1;33m \u001b[0mscore\u001b[0m \u001b[1;33m=\u001b[0m \u001b[0mcorpus_bleu\u001b[0m\u001b[1;33m(\u001b[0m\u001b[0ma\u001b[0m\u001b[1;33m,\u001b[0m \u001b[0mb\u001b[0m\u001b[1;33m)\u001b[0m\u001b[1;33m\u001b[0m\u001b[1;33m\u001b[0m\u001b[0m\n\u001b[0m",
      "\u001b[1;32m~\\anaconda3\\envs\\X-ray\\lib\\site-packages\\nltk\\translate\\bleu_score.py\u001b[0m in \u001b[0;36mcorpus_bleu\u001b[1;34m(list_of_references, hypotheses, weights, smoothing_function, auto_reweigh)\u001b[0m\n\u001b[0;32m    167\u001b[0m \u001b[1;33m\u001b[0m\u001b[0m\n\u001b[0;32m    168\u001b[0m     assert len(list_of_references) == len(hypotheses), (\n\u001b[1;32m--> 169\u001b[1;33m         \u001b[1;34m\"The number of hypotheses and their reference(s) should be the \"\u001b[0m \u001b[1;34m\"same \"\u001b[0m\u001b[1;33m\u001b[0m\u001b[1;33m\u001b[0m\u001b[0m\n\u001b[0m\u001b[0;32m    170\u001b[0m     )\n\u001b[0;32m    171\u001b[0m \u001b[1;33m\u001b[0m\u001b[0m\n",
      "\u001b[1;31mAssertionError\u001b[0m: The number of hypotheses and their reference(s) should be the same "
     ]
    }
   ],
   "source": [
    "score = corpus_bleu(a, b)"
   ]
  },
  {
   "cell_type": "code",
   "execution_count": 82,
   "id": "602ba03d-7719-45ac-99f4-5381557f13ad",
   "metadata": {},
   "outputs": [],
   "source": [
    "a = [['contrast within the bilateral renal collecting systems']]\n",
    "b = ['contrast is seen within the bilateral kidneys from prior examination']"
   ]
  },
  {
   "cell_type": "code",
   "execution_count": 83,
   "id": "6e3644af-8a81-4707-b2bf-a439f60ec04d",
   "metadata": {},
   "outputs": [],
   "source": [
    "a = [a[0][0].split()]\n",
    "b = b[0].split()"
   ]
  },
  {
   "cell_type": "code",
   "execution_count": 86,
   "id": "2273dda9-e677-4b12-addc-dd78d8247276",
   "metadata": {},
   "outputs": [],
   "source": [
    "score = sentence_bleu([b], a[0])"
   ]
  },
  {
   "cell_type": "code",
   "execution_count": null,
   "id": "97dbe6f9-9ac4-4f93-a270-09741d165a3c",
   "metadata": {},
   "outputs": [],
   "source": []
  },
  {
   "cell_type": "code",
   "execution_count": 87,
   "id": "10e97abd-817a-4ade-83c9-919338a56b0e",
   "metadata": {},
   "outputs": [
    {
     "data": {
      "text/plain": [
       "3.515018170403913e-78"
      ]
     },
     "execution_count": 87,
     "metadata": {},
     "output_type": "execute_result"
    }
   ],
   "source": [
    "score"
   ]
  },
  {
   "cell_type": "code",
   "execution_count": 20,
   "id": "8c6d7923-fb32-4fa5-a836-8fd292b85953",
   "metadata": {},
   "outputs": [
    {
     "data": {
      "text/plain": [
       "[['lungs', 'are', 'clear'],\n",
       " ['no', 'focal', 'consolidation', 'effusion', 'or', 'pneumothorax'],\n",
       " ['interval', 'resolution', 'of', 'left', 'effusion'],\n",
       " ['central', 'venous', 'dialysis', 'catheter', 'unchanged', 'in', 'position'],\n",
       " ['heart', 'and', 'mediastinal', 'contours', 'are', 'normal'],\n",
       " ['osseous', 'structures', 'intact']]"
      ]
     },
     "execution_count": 20,
     "metadata": {},
     "output_type": "execute_result"
    }
   ],
   "source": [
    "b"
   ]
  },
  {
   "cell_type": "code",
   "execution_count": 32,
   "id": "fe56feae-1f7a-4d7a-9fe1-d0071e0e53c5",
   "metadata": {},
   "outputs": [
    {
     "data": {
      "text/plain": [
       "[['there', 'is', 'spondylosis'],\n",
       " ['mediastinum', 'normal'],\n",
       " ['negative', 'for', 'pneumothorax', 'or', 'pleural', 'effusion']]"
      ]
     },
     "execution_count": 32,
     "metadata": {},
     "output_type": "execute_result"
    }
   ],
   "source": [
    "a[0]"
   ]
  },
  {
   "cell_type": "code",
   "execution_count": 33,
   "id": "ac086b8a-fe04-423a-82e9-9760b76e2f3d",
   "metadata": {},
   "outputs": [
    {
     "data": {
      "text/plain": [
       "['lungs', 'are', 'clear']"
      ]
     },
     "execution_count": 33,
     "metadata": {},
     "output_type": "execute_result"
    }
   ],
   "source": [
    "b[0]"
   ]
  },
  {
   "cell_type": "markdown",
   "id": "c48b08ab-690f-4014-8e22-a8cfb30f6121",
   "metadata": {},
   "source": [
    "# Sentence "
   ]
  },
  {
   "cell_type": "code",
   "execution_count": 5,
   "id": "8c14aae3-0d4f-4d0a-a94f-d75276106cf1",
   "metadata": {},
   "outputs": [],
   "source": [
    "df = pd.read_csv('data/train_clean.csv')\n",
    "df = df[np.logical_not(df.Findings == 'startseq  endseq')]"
   ]
  },
  {
   "cell_type": "code",
   "execution_count": 16,
   "id": "7242704a-8fbc-4284-80d6-dab49a10a41e",
   "metadata": {},
   "outputs": [],
   "source": [
    "count = {}\n",
    "\n",
    "for idx in range(len(df)):\n",
    "    _, label = tokenize_report(df.iloc[idx, 2])\n",
    "    for sent in label:\n",
    "        fw = sent.split()\n",
    "        if len(fw):\n",
    "            fw = fw[0]\n",
    "        else:\n",
    "            continue\n",
    "    \n",
    "        if fw not in count:\n",
    "            count[fw] = 0\n",
    "        count[fw] += 1"
   ]
  },
  {
   "cell_type": "code",
   "execution_count": 17,
   "id": "f4bc00f2-6ea3-4920-b3ae-a2f13e0edd8c",
   "metadata": {},
   "outputs": [
    {
     "data": {
      "text/plain": [
       "{'the': 3411,\n",
       " 'there': 2219,\n",
       " 'stable': 269,\n",
       " 'no': 2874,\n",
       " 'both': 113,\n",
       " 'heart': 1005,\n",
       " 'xxxx': 307,\n",
       " 'interstitial': 4,\n",
       " 'pulmonary': 213,\n",
       " 'retrocardiac': 2,\n",
       " 'vascular': 8,\n",
       " 'calcified': 114,\n",
       " 'this': 62,\n",
       " 'osteopenia': 10,\n",
       " 'cardiac': 153,\n",
       " 'bony': 153,\n",
       " 'mediastinal': 107,\n",
       " 'trachea': 17,\n",
       " 'lateral': 11,\n",
       " 'visualized': 177,\n",
       " 'patient': 8,\n",
       " 'correlate': 5,\n",
       " 'lung': 42,\n",
       " 'bibasilar': 17,\n",
       " 'shunt': 2,\n",
       " 'right': 98,\n",
       " 'streaky': 13,\n",
       " 'considering': 4,\n",
       " 'basilar': 1,\n",
       " 'normal': 331,\n",
       " 'clear': 59,\n",
       " 'acromioclavicular': 2,\n",
       " 'compared': 7,\n",
       " 'ct': 1,\n",
       " 'mild': 209,\n",
       " 'degenerative': 165,\n",
       " 'some': 10,\n",
       " 'these': 17,\n",
       " 'a': 64,\n",
       " 'multiple': 21,\n",
       " 'lucency': 1,\n",
       " 'lungs': 483,\n",
       " 'osseous': 87,\n",
       " 'interval': 22,\n",
       " 'improved': 1,\n",
       " 'bilateral': 28,\n",
       " 'chronic': 20,\n",
       " 'negative': 114,\n",
       " 'specifically': 84,\n",
       " 'cardio': 69,\n",
       " 'technically': 1,\n",
       " 'decreased': 4,\n",
       " 'levoscoliosis': 2,\n",
       " 'hyperinflated': 10,\n",
       " 'prior': 27,\n",
       " 'innumerable': 2,\n",
       " 'scoliosis': 11,\n",
       " 'thoracic': 57,\n",
       " 'aortic': 39,\n",
       " 'sternotomy': 11,\n",
       " 'atherosclerotic': 30,\n",
       " 'corticated': 1,\n",
       " 'partial': 2,\n",
       " 'aorta': 26,\n",
       " 'since': 2,\n",
       " 'upper': 4,\n",
       " 'old': 16,\n",
       " 'frontal': 42,\n",
       " 'central': 15,\n",
       " 'left': 79,\n",
       " 'diffuse': 12,\n",
       " 'cardiomediastinal': 203,\n",
       " 'lordotic': 1,\n",
       " 'limited': 26,\n",
       " 'severe': 6,\n",
       " 'previous': 2,\n",
       " 'low': 84,\n",
       " 'sequela': 3,\n",
       " 'otherwise': 33,\n",
       " 'borderline': 12,\n",
       " 'increased': 15,\n",
       " 'scattered': 33,\n",
       " 'moderate': 22,\n",
       " 'in': 26,\n",
       " '2': 19,\n",
       " 'cardiomegaly': 25,\n",
       " 'several': 2,\n",
       " 'prosthetic': 2,\n",
       " 'possible': 3,\n",
       " 'additionally': 2,\n",
       " 'pa': 25,\n",
       " 'emphysematous': 7,\n",
       " 'blunting': 6,\n",
       " 'surgical': 32,\n",
       " 'minimally': 1,\n",
       " 'evidence': 4,\n",
       " 'persistent': 8,\n",
       " 'coronary': 3,\n",
       " 'small': 41,\n",
       " 'possibility': 1,\n",
       " 'acute': 1,\n",
       " 'tortuous': 30,\n",
       " 'soft': 25,\n",
       " 'emphysema': 7,\n",
       " 'enlarged': 4,\n",
       " 'relative': 5,\n",
       " 'feeding': 2,\n",
       " 'poly': 1,\n",
       " 'mediastinum': 12,\n",
       " 'redemonstration': 9,\n",
       " 'large': 16,\n",
       " 'hypoinflation': 1,\n",
       " 'sclerosis': 1,\n",
       " 'sclerotic': 1,\n",
       " 'calcifications': 4,\n",
       " 'vague': 7,\n",
       " 'question': 6,\n",
       " 'tortuosity': 5,\n",
       " 'if': 3,\n",
       " 'hyperexpanded': 15,\n",
       " 'calcific': 5,\n",
       " 'sequelae': 10,\n",
       " 'prominent': 27,\n",
       " 'patchy': 15,\n",
       " 'left-sided': 12,\n",
       " 'increase': 1,\n",
       " 'calcification': 4,\n",
       " 'one': 2,\n",
       " 'torturousectatic': 1,\n",
       " 'it': 8,\n",
       " 'note': 5,\n",
       " 'pleural': 22,\n",
       " 'metastatic': 1,\n",
       " 'unremarkable': 6,\n",
       " 'arthritic': 22,\n",
       " 'two': 7,\n",
       " 'however': 10,\n",
       " 'with': 1,\n",
       " 'morgagni': 1,\n",
       " 'mildly': 13,\n",
       " 'chest': 32,\n",
       " 'hand': 1,\n",
       " 'bronchovascular': 4,\n",
       " 'accounting': 3,\n",
       " 'vp': 1,\n",
       " 'without': 1,\n",
       " 'minimal': 44,\n",
       " 'vascularity': 1,\n",
       " 'is': 2,\n",
       " 'overall': 6,\n",
       " 'findings': 5,\n",
       " 'dish': 2,\n",
       " 'nodular': 13,\n",
       " 'granulomas': 4,\n",
       " 'apical': 3,\n",
       " 'again': 11,\n",
       " 'ill-defined': 1,\n",
       " 'granulomatous': 8,\n",
       " 'consolidation': 5,\n",
       " 'shoulder': 1,\n",
       " 'fractures': 2,\n",
       " 'cutaneous': 1,\n",
       " 'fracture': 3,\n",
       " 'slightly': 3,\n",
       " 'postsurgical': 13,\n",
       " 'three': 3,\n",
       " '4': 1,\n",
       " 'within': 4,\n",
       " 'at': 1,\n",
       " 'grossly': 7,\n",
       " 'unfolding': 2,\n",
       " 'multilevel': 18,\n",
       " 'confluent': 1,\n",
       " 'increasing': 1,\n",
       " 'evaluation': 5,\n",
       " 'included': 1,\n",
       " 'air-fluid': 1,\n",
       " 'lumbar': 4,\n",
       " 'an': 5,\n",
       " 'postoperative': 4,\n",
       " 'osteophytes': 1,\n",
       " 'midline': 4,\n",
       " 'flowing': 1,\n",
       " 'unchanged': 13,\n",
       " 'ribs': 1,\n",
       " 'critical': 2,\n",
       " 'study': 1,\n",
       " 't-spine': 8,\n",
       " '3': 2,\n",
       " 'dextroscoliosis': 4,\n",
       " 'pacemaker': 2,\n",
       " 'xxxx-a-xxxx': 1,\n",
       " 'drainage': 1,\n",
       " 'probable': 9,\n",
       " 'unclear': 1,\n",
       " 'bone': 4,\n",
       " 'focal': 4,\n",
       " 'dense': 7,\n",
       " 'elevated': 8,\n",
       " 'generative': 1,\n",
       " 'right-sided': 3,\n",
       " 'mid': 3,\n",
       " 's-shaped': 1,\n",
       " 'after': 1,\n",
       " 'exaggerated': 8,\n",
       " 'size': 1,\n",
       " 'remaining': 1,\n",
       " 'diffusely': 1,\n",
       " 'eventration': 5,\n",
       " 'background': 1,\n",
       " 'deformity': 5,\n",
       " 'removal': 1,\n",
       " 'spurring': 2,\n",
       " 'hyperexpansion': 3,\n",
       " '8mm': 1,\n",
       " 'levocurvature': 3,\n",
       " 'blunted': 1,\n",
       " 'verterbroplasty': 1,\n",
       " 'additional': 1,\n",
       " 'subtle': 3,\n",
       " 'pectus': 4,\n",
       " 'rotated': 5,\n",
       " 'hyperinflation': 2,\n",
       " 'costophrenic': 6,\n",
       " 'age-indeterminate': 1,\n",
       " 'portable': 1,\n",
       " 'apparent': 4,\n",
       " 'cholecystectomy': 7,\n",
       " 'tracheostomy': 3,\n",
       " 'prominence': 3,\n",
       " 'definite': 1,\n",
       " 'inferior': 2,\n",
       " 'contrast': 4,\n",
       " 'hiatal': 1,\n",
       " 'ap': 5,\n",
       " 'strandy': 1,\n",
       " 'significantly': 1,\n",
       " 'as': 1,\n",
       " 'thin': 1,\n",
       " 'pelvis': 3,\n",
       " 'femur': 1,\n",
       " 'extensive': 5,\n",
       " 'changes': 9,\n",
       " 'questionable': 4,\n",
       " 'to': 2,\n",
       " 'epigastric': 1,\n",
       " 'curvilinear': 1,\n",
       " 'catheter': 2,\n",
       " 'hyperlucent': 4,\n",
       " 'healed': 5,\n",
       " 'irregular': 2,\n",
       " 'intact': 3,\n",
       " 'interstitium': 1,\n",
       " 'biapical': 5,\n",
       " 'flattening': 1,\n",
       " 'spinal': 2,\n",
       " 'opacity': 3,\n",
       " 'incidental': 4,\n",
       " 'similar': 2,\n",
       " 'numerous': 3,\n",
       " 'she': 1,\n",
       " 'anterior': 4,\n",
       " 'resolved': 1,\n",
       " 'ankle': 2,\n",
       " 'first': 1,\n",
       " 'dextro-convex': 1,\n",
       " 'subcutaneous': 1,\n",
       " 'crowded': 2,\n",
       " 'chronic-appearing': 1,\n",
       " 'umbilical': 1,\n",
       " 'peripheral': 2,\n",
       " 'radiographic': 1,\n",
       " 'slight': 2,\n",
       " 'atrial': 2,\n",
       " 'currently': 1,\n",
       " 'gastrostomy': 2,\n",
       " 'abdomen': 5,\n",
       " 'formed': 1,\n",
       " 'postsurgicalbiopsy': 1,\n",
       " 'atherosclerosis': 3,\n",
       " 'scaphoid': 1,\n",
       " 'leads': 1,\n",
       " 'bandlike': 2,\n",
       " 'appearance': 2,\n",
       " 'dilated': 1,\n",
       " 'remote': 1,\n",
       " 'been': 1,\n",
       " 'lumbosacral': 2,\n",
       " 'disc': 1,\n",
       " 'sacrum': 2,\n",
       " 'redemonstrated': 4,\n",
       " 'abdominal': 1,\n",
       " 'underlying': 2,\n",
       " 'on': 4,\n",
       " 'given': 2,\n",
       " 'relatively': 1,\n",
       " 'vertebral': 2,\n",
       " 'alignment': 1,\n",
       " 'lobulated': 1,\n",
       " 'suture': 1,\n",
       " 'scarring': 1,\n",
       " 'residuals': 1,\n",
       " 'residual': 1,\n",
       " 'clips': 2,\n",
       " 'airspace': 2,\n",
       " 'descending': 2,\n",
       " 'single': 1,\n",
       " 'incompletely': 1,\n",
       " 'endplate': 2,\n",
       " 'moderate-to-marked': 1,\n",
       " 'endotracheal': 2,\n",
       " 'also': 2,\n",
       " 'nasogastric': 1,\n",
       " 'deformed': 1,\n",
       " 'retained': 1,\n",
       " 'lower': 3,\n",
       " 'irregularity': 2,\n",
       " 'mortise': 1,\n",
       " 'rounded': 3,\n",
       " 'lucent': 1,\n",
       " 'external': 4,\n",
       " 'radiodensity': 1,\n",
       " 'displaced': 1,\n",
       " 'monitoring': 1,\n",
       " 'hips': 1,\n",
       " 'chronically': 1,\n",
       " 'bullae': 3,\n",
       " 'significant': 1,\n",
       " 'air': 2,\n",
       " 'cervical': 3,\n",
       " 'for': 2,\n",
       " 'and': 2,\n",
       " 'volume': 3,\n",
       " 'rectal': 1,\n",
       " 'enteric': 2,\n",
       " 'partially': 2,\n",
       " 'density': 2,\n",
       " 'ureteral': 1,\n",
       " 'remainder': 3,\n",
       " 'marrow': 1,\n",
       " 'sternum': 1,\n",
       " 'stent': 2,\n",
       " 'pneumonia': 1,\n",
       " 'theyre': 2,\n",
       " 'lucencies': 1,\n",
       " 'senescent': 1,\n",
       " 'paramediastinal': 1,\n",
       " 'radiographically': 1,\n",
       " 'coarsened': 1,\n",
       " 'unfolded': 1,\n",
       " 'overlying': 2,\n",
       " 'cannot': 2,\n",
       " 'once': 1,\n",
       " 'chondral': 1,\n",
       " 'implantable': 1,\n",
       " 'pression': 1,\n",
       " 'diaphragm': 2,\n",
       " 'two-view': 1,\n",
       " 'hindfoot': 1,\n",
       " 'peribronchial': 1,\n",
       " 'laryngeal': 1,\n",
       " 'multifocal': 1,\n",
       " 'azygos': 1,\n",
       " 'all': 1,\n",
       " 'configuration': 1,\n",
       " 'status': 3,\n",
       " 'subsegmental': 2,\n",
       " 'suspected': 1,\n",
       " 'limbus': 1,\n",
       " 'kub': 2,\n",
       " 'subcarinal': 1,\n",
       " 'well': 1,\n",
       " 'examination': 2,\n",
       " 'advanced': 1,\n",
       " 'bridging': 1,\n",
       " 'accentuated': 1,\n",
       " 'elevation': 1,\n",
       " '6': 1,\n",
       " 'marked': 3,\n",
       " 'straightening': 1,\n",
       " 'dual-xxxx': 1,\n",
       " '10': 1,\n",
       " 'postop': 1,\n",
       " 'generalized': 1,\n",
       " 'exaggeration': 1,\n",
       " 'supine': 1,\n",
       " 'dextroconvex': 1,\n",
       " 'previously': 2,\n",
       " 'we': 1,\n",
       " 'mediport': 1,\n",
       " 'masslike': 1,\n",
       " 'spondylosis': 1,\n",
       " 'of': 1,\n",
       " 'artifact': 1,\n",
       " 'contour': 2,\n",
       " 'not': 1,\n",
       " 'osteophyte': 1,\n",
       " 'i': 1,\n",
       " 'could': 1,\n",
       " 'adjacent': 1,\n",
       " 'broken': 1,\n",
       " 'hyperaerated': 1,\n",
       " '1933': 1,\n",
       " 'diminutive': 1,\n",
       " 'exam': 1,\n",
       " 'picc': 2,\n",
       " 'interposition': 1,\n",
       " 'following': 1,\n",
       " 'dual-lumen': 1,\n",
       " 'results': 1,\n",
       " 'nipple': 2,\n",
       " 'skin': 1,\n",
       " 'mixed': 1,\n",
       " 'obliquely': 1,\n",
       " 'active': 1,\n",
       " 'abnormal': 1,\n",
       " 'tubular': 1,\n",
       " 'centered': 1,\n",
       " 'another': 1,\n",
       " 'distal': 1,\n",
       " 'hilar': 1,\n",
       " 'tips': 1,\n",
       " 'comparison': 1,\n",
       " 'kyphotic': 1,\n",
       " 'oval': 1,\n",
       " 'allowing': 1,\n",
       " 'callus': 1,\n",
       " 'osteophytic': 1,\n",
       " 'nonobstructive': 1,\n",
       " 'hip': 1,\n",
       " 'sacroiliac': 1,\n",
       " 'mitral': 1,\n",
       " 'middle': 1,\n",
       " 'reduced': 1,\n",
       " 'radiopaque': 1}"
      ]
     },
     "execution_count": 17,
     "metadata": {},
     "output_type": "execute_result"
    }
   ],
   "source": [
    "count"
   ]
  },
  {
   "cell_type": "code",
   "execution_count": null,
   "id": "ecd977a7-eaed-4998-b145-00c3dc76d9bd",
   "metadata": {},
   "outputs": [],
   "source": []
  }
 ],
 "metadata": {
  "kernelspec": {
   "display_name": "X-ray_CUDA",
   "language": "python",
   "name": "x-ray_cuda"
  },
  "language_info": {
   "codemirror_mode": {
    "name": "ipython",
    "version": 3
   },
   "file_extension": ".py",
   "mimetype": "text/x-python",
   "name": "python",
   "nbconvert_exporter": "python",
   "pygments_lexer": "ipython3",
   "version": "3.7.11"
  }
 },
 "nbformat": 4,
 "nbformat_minor": 5
}
