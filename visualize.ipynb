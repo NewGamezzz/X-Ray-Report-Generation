{
 "cells": [
  {
   "cell_type": "code",
   "execution_count": 17,
   "id": "8df74f9c-9857-4dda-8be2-754bd924e00d",
   "metadata": {},
   "outputs": [],
   "source": [
    "import torch\n",
    "import torch.nn as nn\n",
    "import torchvision.transforms as T\n",
    "from torch.utils.data import Dataset, DataLoader\n",
    "from torch.optim.lr_scheduler import ReduceLROnPlateau\n",
    "from torchvision.models import resnet50\n",
    "import numpy as np\n",
    "import pandas as pd\n",
    "import cv2\n",
    "import os\n",
    "import pickle\n",
    "from nltk.translate.bleu_score import corpus_bleu, sentence_bleu\n",
    "import torch.nn.functional as F\n",
    "from torch.utils.tensorboard import SummaryWriter\n",
    "from PIL import Image\n",
    "import matplotlib.pyplot as plt\n",
    "from sentence_transformers import SentenceTransformer\n",
    "from torchsummary import summary\n",
    "from tensorboard.plugins import projector\n",
    "from scipy.optimize import linear_sum_assignment\n",
    "from utils.utils import *\n",
    "from utils.assignment import *\n",
    "from utils.latent_loss import *\n",
    "from model.model import *"
   ]
  },
  {
   "cell_type": "code",
   "execution_count": 43,
   "id": "9f3fc7f0-253f-41f4-9bd7-0e6ca2e556dc",
   "metadata": {},
   "outputs": [],
   "source": [
    "class SetPredictLSP(nn.Module):\n",
    "    def __init__(self, device, hidden_dim=384, nhead=4, nlayers=3, max_sentence=18, vocab_size=5439):\n",
    "        super().__init__()\n",
    "        \n",
    "        self.hidden_dim = hidden_dim\n",
    "        self.cnn_text = CNN_Text(device=device)\n",
    "        self.hungarian = MSEGCRLatentLoss()\n",
    "        \n",
    "        self.decoder = nn.TransformerDecoderLayer(d_model=hidden_dim, nhead=nhead)\n",
    "        self.transformer_decoder = nn.TransformerDecoder(self.decoder, nlayers)\n",
    "        \n",
    "        self.linear = nn.Linear(hidden_dim, 128)\n",
    "        self.output = nn.Linear(128, vocab_size)\n",
    "        \n",
    "        self.mlp = MLP().to(device)\n",
    "        self.mlp.load_state_dict(torch.load('model/length_model_best.pt'))\n",
    "        \n",
    "        self.max_t = max_sentence\n",
    "        \n",
    "    def forward(self, X, y, len_y):\n",
    "        '''\n",
    "        X is image (bs, 3, H, W)\n",
    "        R's shape is (bs, length, hidden_dim)\n",
    "        feat will be use for the transformer decoder\n",
    "        '''\n",
    "        bs = X.shape[0]\n",
    "        R, feat = self.cnn_text(X) \n",
    "        \n",
    "        R = flat_by_lengths(R, (torch.ones((bs))*20).to(device))\n",
    "        y = flat_by_lengths_max_t(y, len_y, self.max_t)\n",
    "        R_pi, R_i, loss = self.hungarian.forward(y, len_y, R, (torch.ones(bs, dtype=int)*20).to(device))\n",
    "        \n",
    "        R_pi = chunk_pad_by_lengths(R_pi, len_y, batch_first = False)\n",
    "        R = self.transformer_decoder(R_pi, feat).transpose(0, 1)\n",
    "        R = flat_by_lengths(R, len_y)\n",
    "        x = self.linear(R)\n",
    "        output = self.output(x)\n",
    "        \n",
    "        return output, loss\n",
    "    \n",
    "    def predict(self, X):\n",
    "        R, feat = self.cnn_text(X) \n",
    "        len_R = self.mlp(X)\n",
    "        len_R = torch.round(len_R).flatten()\n",
    "        \n",
    "        R = self.transformer_decoder(R.transpose(0, 1), feat).transpose(0, 1)\n",
    "        R = flat_by_lengths_max_t(R, len_R, 20)\n",
    "        x = self.linear(R)\n",
    "        output = self.output(x)\n",
    "        \n",
    "        return output, len_R"
   ]
  },
  {
   "cell_type": "code",
   "execution_count": 7,
   "id": "6eb1b2e2-3860-4e73-bbea-440d693b011e",
   "metadata": {},
   "outputs": [],
   "source": [
    "model = SetPredictLSP(device).to(device)"
   ]
  },
  {
   "cell_type": "code",
   "execution_count": 8,
   "id": "a9f039c5-dde9-49a4-bfef-af1fa03ea1b1",
   "metadata": {},
   "outputs": [],
   "source": [
    "for X, y, id_, len_y in train_loader:\n",
    "    break"
   ]
  },
  {
   "cell_type": "code",
   "execution_count": 9,
   "id": "81a8e174-5b48-45f0-9d8b-1bca6ad78a13",
   "metadata": {},
   "outputs": [
    {
     "name": "stdout",
     "output_type": "stream",
     "text": [
      "torch.Size([81, 3, 256, 256])\n"
     ]
    }
   ],
   "source": [
    "print(X.shape)"
   ]
  },
  {
   "cell_type": "code",
   "execution_count": 10,
   "id": "ef0aac3e-1734-40c1-8fdd-06e956d2f61f",
   "metadata": {},
   "outputs": [],
   "source": [
    "output, len_R = model.predict(X.to(device))"
   ]
  },
  {
   "cell_type": "code",
   "execution_count": 16,
   "id": "0877f811-436a-4e2a-80f1-846ae9aa1f46",
   "metadata": {},
   "outputs": [],
   "source": [
    "R_pi = chunk_pad_by_lengths(output, torch.Tensor.int(len_R.flatten()), batch_first = True)"
   ]
  },
  {
   "cell_type": "code",
   "execution_count": 17,
   "id": "0eb97c66-65e7-457a-a024-5a771d56e618",
   "metadata": {},
   "outputs": [
    {
     "data": {
      "text/plain": [
       "torch.Size([81, 7, 5439])"
      ]
     },
     "execution_count": 17,
     "metadata": {},
     "output_type": "execute_result"
    }
   ],
   "source": [
    "R_pi.shape"
   ]
  },
  {
   "cell_type": "code",
   "execution_count": 28,
   "id": "0aac7dc1-3a08-453f-8ba6-310fa628fcb0",
   "metadata": {},
   "outputs": [],
   "source": [
    "test = torch.argmax(R_pi[0][:int(len_R[0])], axis=1)."
   ]
  },
  {
   "cell_type": "code",
   "execution_count": 30,
   "id": "32dfc873-9b2c-456b-ae61-282f0f01158d",
   "metadata": {},
   "outputs": [],
   "source": [
    "test = test.cpu().detach().numpy()"
   ]
  },
  {
   "cell_type": "code",
   "execution_count": 31,
   "id": "59ae3bea-07c2-42f8-85da-87b44721e54f",
   "metadata": {},
   "outputs": [
    {
     "data": {
      "text/plain": [
       "['there is spondylosis',\n",
       " 'mediastinum normal',\n",
       " 'negative for pneumothorax or pleural effusion']"
      ]
     },
     "execution_count": 31,
     "metadata": {},
     "output_type": "execute_result"
    }
   ],
   "source": [
    "decode = lambda x: decoder[x]\n",
    "\n",
    "list(map(decode, test))"
   ]
  },
  {
   "cell_type": "code",
   "execution_count": 39,
   "id": "b33baa21-7254-4d22-adc3-eb0bb077e629",
   "metadata": {},
   "outputs": [
    {
     "ename": "IndexError",
     "evalue": "Dimension out of range (expected to be in range of [-1, 0], but got 1)",
     "output_type": "error",
     "traceback": [
      "\u001b[1;31m---------------------------------------------------------------------------\u001b[0m",
      "\u001b[1;31mIndexError\u001b[0m                                Traceback (most recent call last)",
      "\u001b[1;32m~\\AppData\\Local\\Temp/ipykernel_18300/2419872951.py\u001b[0m in \u001b[0;36m<module>\u001b[1;34m\u001b[0m\n\u001b[1;32m----> 1\u001b[1;33m \u001b[0mid__\u001b[0m \u001b[1;33m=\u001b[0m \u001b[0mtorch\u001b[0m\u001b[1;33m.\u001b[0m\u001b[0margmax\u001b[0m\u001b[1;33m(\u001b[0m\u001b[0mid_\u001b[0m\u001b[1;33m[\u001b[0m\u001b[1;36m0\u001b[0m\u001b[1;33m]\u001b[0m\u001b[1;33m[\u001b[0m\u001b[1;33m:\u001b[0m\u001b[0mint\u001b[0m\u001b[1;33m(\u001b[0m\u001b[0mlen_y\u001b[0m\u001b[1;33m[\u001b[0m\u001b[1;36m0\u001b[0m\u001b[1;33m]\u001b[0m\u001b[1;33m)\u001b[0m\u001b[1;33m]\u001b[0m\u001b[1;33m,\u001b[0m \u001b[0maxis\u001b[0m\u001b[1;33m=\u001b[0m\u001b[1;36m1\u001b[0m\u001b[1;33m)\u001b[0m\u001b[1;33m\u001b[0m\u001b[1;33m\u001b[0m\u001b[0m\n\u001b[0m",
      "\u001b[1;31mIndexError\u001b[0m: Dimension out of range (expected to be in range of [-1, 0], but got 1)"
     ]
    }
   ],
   "source": [
    "id__ = torch.argmax(id_[0][:int(len_y[0])], axis=1)"
   ]
  },
  {
   "cell_type": "code",
   "execution_count": 42,
   "id": "480623e2-d7ed-4ad3-8f5f-50ff8732f65b",
   "metadata": {},
   "outputs": [
    {
     "data": {
      "text/plain": [
       "['lungs are clear',\n",
       " 'no focal consolidation effusion or pneumothorax',\n",
       " 'interval resolution of left effusion',\n",
       " 'central venous dialysis catheter unchanged in position',\n",
       " 'heart and mediastinal contours are normal',\n",
       " 'osseous structures intact']"
      ]
     },
     "execution_count": 42,
     "metadata": {},
     "output_type": "execute_result"
    }
   ],
   "source": [
    "list(map(decode, id_[0][:int(len_y[0])].cpu().detach().numpy()))"
   ]
  },
  {
   "cell_type": "code",
   "execution_count": 36,
   "id": "d24af9cd-db77-46d1-bda7-43f2bc45a91f",
   "metadata": {},
   "outputs": [
    {
     "data": {
      "text/plain": [
       "tensor(6, dtype=torch.int32)"
      ]
     },
     "execution_count": 36,
     "metadata": {},
     "output_type": "execute_result"
    }
   ],
   "source": [
    "len_y[0]"
   ]
  },
  {
   "cell_type": "code",
   "execution_count": null,
   "id": "2d48f935-16ee-4f75-b351-ebb4c2199f01",
   "metadata": {},
   "outputs": [
    {
     "data": {
      "text/plain": [
       "tensor(311., device='cuda:0', grad_fn=<SumBackward0>)"
      ]
     },
     "execution_count": 30,
     "metadata": {},
     "output_type": "execute_result"
    }
   ],
   "source": [
    "len_R.sum()"
   ]
  },
  {
   "cell_type": "code",
   "execution_count": null,
   "id": "1a2c971a-64f8-4add-afd0-de807a918958",
   "metadata": {},
   "outputs": [],
   "source": [
    "references = [[['this', 'is', 'a', 'test'], ['this', 'is' 'test']]]\n",
    "candidates = [['this', 'is', 'a', 'test']]\n",
    "score = corpus_bleu(references, candidates)\n",
    "print(score)"
   ]
  },
  {
   "cell_type": "code",
   "execution_count": null,
   "id": "e37afdfb-c236-4803-8425-d8e70d0aef3a",
   "metadata": {},
   "outputs": [],
   "source": [
    "test = torch.argmax(R_pi[0][:int(len_R[0])], axis=1)."
   ]
  },
  {
   "cell_type": "code",
   "execution_count": null,
   "id": "d712d947-b6d4-4436-9981-ca76fffd3ada",
   "metadata": {},
   "outputs": [],
   "source": [
    "decode = lambda x: decoder[x]\n",
    "\n",
    "list(map(decode, test))"
   ]
  },
  {
   "cell_type": "code",
   "execution_count": 5,
   "id": "f50f1507-8166-4857-a7fe-ce48cbf106a7",
   "metadata": {},
   "outputs": [],
   "source": [
    "a = ['there is spondylosis',\n",
    " 'mediastinum normal',\n",
    " 'negative for pneumothorax or pleural effusion']\n",
    "     \n",
    "b = ['lungs are clear',\n",
    " 'no focal consolidation effusion or pneumothorax',\n",
    " 'interval resolution of left effusion',\n",
    " 'central venous dialysis catheter unchanged in position',\n",
    " 'heart and mediastinal contours are normal',\n",
    " 'osseous structures intact']"
   ]
  },
  {
   "cell_type": "code",
   "execution_count": 6,
   "id": "7701f65e-1889-410f-87d7-e9bf62be0316",
   "metadata": {},
   "outputs": [],
   "source": [
    "split = lambda x: x.split()\n",
    "\n",
    "a = list(map(split, a))\n",
    "b = list(map(split, b))"
   ]
  },
  {
   "cell_type": "code",
   "execution_count": 11,
   "id": "24a32617-b2a8-4b25-b7e9-502218f7bef7",
   "metadata": {},
   "outputs": [
    {
     "data": {
      "text/plain": [
       "[['there', 'is', 'spondylosis'],\n",
       " ['mediastinum', 'normal'],\n",
       " ['negative', 'for', 'pneumothorax', 'or', 'pleural', 'effusion']]"
      ]
     },
     "execution_count": 11,
     "metadata": {},
     "output_type": "execute_result"
    }
   ],
   "source": [
    "a"
   ]
  },
  {
   "cell_type": "code",
   "execution_count": 8,
   "id": "d5ff91ea-6b53-4c03-b1fd-929373c84421",
   "metadata": {},
   "outputs": [
    {
     "data": {
      "text/plain": [
       "[['lungs', 'are', 'clear'],\n",
       " ['no', 'focal', 'consolidation', 'effusion', 'or', 'pneumothorax'],\n",
       " ['interval', 'resolution', 'of', 'left', 'effusion'],\n",
       " ['central', 'venous', 'dialysis', 'catheter', 'unchanged', 'in', 'position'],\n",
       " ['heart', 'and', 'mediastinal', 'contours', 'are', 'normal'],\n",
       " ['osseous', 'structures', 'intact']]"
      ]
     },
     "execution_count": 8,
     "metadata": {},
     "output_type": "execute_result"
    }
   ],
   "source": [
    "b"
   ]
  },
  {
   "cell_type": "code",
   "execution_count": 12,
   "id": "e5870d4a-cf57-47e7-b8d8-8239ec024e0d",
   "metadata": {},
   "outputs": [],
   "source": [
    "a = [a]"
   ]
  },
  {
   "cell_type": "code",
   "execution_count": 13,
   "id": "dd7b4b00-5148-4045-810e-20e84278ac31",
   "metadata": {},
   "outputs": [
    {
     "data": {
      "text/plain": [
       "[[['there', 'is', 'spondylosis'],\n",
       "  ['mediastinum', 'normal'],\n",
       "  ['negative', 'for', 'pneumothorax', 'or', 'pleural', 'effusion']]]"
      ]
     },
     "execution_count": 13,
     "metadata": {},
     "output_type": "execute_result"
    }
   ],
   "source": [
    "a"
   ]
  },
  {
   "cell_type": "code",
   "execution_count": 14,
   "id": "76702e3e-ad0b-4891-86e1-c4b778b4f6a4",
   "metadata": {},
   "outputs": [
    {
     "ename": "AssertionError",
     "evalue": "The number of hypotheses and their reference(s) should be the same ",
     "output_type": "error",
     "traceback": [
      "\u001b[1;31m---------------------------------------------------------------------------\u001b[0m",
      "\u001b[1;31mAssertionError\u001b[0m                            Traceback (most recent call last)",
      "\u001b[1;32m~\\AppData\\Local\\Temp/ipykernel_19816/1866317465.py\u001b[0m in \u001b[0;36m<module>\u001b[1;34m\u001b[0m\n\u001b[1;32m----> 1\u001b[1;33m \u001b[0mscore\u001b[0m \u001b[1;33m=\u001b[0m \u001b[0mcorpus_bleu\u001b[0m\u001b[1;33m(\u001b[0m\u001b[0ma\u001b[0m\u001b[1;33m,\u001b[0m \u001b[0mb\u001b[0m\u001b[1;33m)\u001b[0m\u001b[1;33m\u001b[0m\u001b[1;33m\u001b[0m\u001b[0m\n\u001b[0m",
      "\u001b[1;32m~\\anaconda3\\envs\\X-ray\\lib\\site-packages\\nltk\\translate\\bleu_score.py\u001b[0m in \u001b[0;36mcorpus_bleu\u001b[1;34m(list_of_references, hypotheses, weights, smoothing_function, auto_reweigh)\u001b[0m\n\u001b[0;32m    167\u001b[0m \u001b[1;33m\u001b[0m\u001b[0m\n\u001b[0;32m    168\u001b[0m     assert len(list_of_references) == len(hypotheses), (\n\u001b[1;32m--> 169\u001b[1;33m         \u001b[1;34m\"The number of hypotheses and their reference(s) should be the \"\u001b[0m \u001b[1;34m\"same \"\u001b[0m\u001b[1;33m\u001b[0m\u001b[1;33m\u001b[0m\u001b[0m\n\u001b[0m\u001b[0;32m    170\u001b[0m     )\n\u001b[0;32m    171\u001b[0m \u001b[1;33m\u001b[0m\u001b[0m\n",
      "\u001b[1;31mAssertionError\u001b[0m: The number of hypotheses and their reference(s) should be the same "
     ]
    }
   ],
   "source": [
    "score = corpus_bleu(a, b)"
   ]
  },
  {
   "cell_type": "code",
   "execution_count": 82,
   "id": "602ba03d-7719-45ac-99f4-5381557f13ad",
   "metadata": {},
   "outputs": [],
   "source": [
    "a = [['contrast within the bilateral renal collecting systems']]\n",
    "b = ['contrast is seen within the bilateral kidneys from prior examination']"
   ]
  },
  {
   "cell_type": "code",
   "execution_count": 83,
   "id": "6e3644af-8a81-4707-b2bf-a439f60ec04d",
   "metadata": {},
   "outputs": [],
   "source": [
    "a = [a[0][0].split()]\n",
    "b = b[0].split()"
   ]
  },
  {
   "cell_type": "code",
   "execution_count": 86,
   "id": "2273dda9-e677-4b12-addc-dd78d8247276",
   "metadata": {},
   "outputs": [],
   "source": [
    "score = sentence_bleu([b], a[0])"
   ]
  },
  {
   "cell_type": "code",
   "execution_count": null,
   "id": "97dbe6f9-9ac4-4f93-a270-09741d165a3c",
   "metadata": {},
   "outputs": [],
   "source": []
  },
  {
   "cell_type": "code",
   "execution_count": 87,
   "id": "10e97abd-817a-4ade-83c9-919338a56b0e",
   "metadata": {},
   "outputs": [
    {
     "data": {
      "text/plain": [
       "3.515018170403913e-78"
      ]
     },
     "execution_count": 87,
     "metadata": {},
     "output_type": "execute_result"
    }
   ],
   "source": [
    "score"
   ]
  },
  {
   "cell_type": "code",
   "execution_count": 20,
   "id": "8c6d7923-fb32-4fa5-a836-8fd292b85953",
   "metadata": {},
   "outputs": [
    {
     "data": {
      "text/plain": [
       "[['lungs', 'are', 'clear'],\n",
       " ['no', 'focal', 'consolidation', 'effusion', 'or', 'pneumothorax'],\n",
       " ['interval', 'resolution', 'of', 'left', 'effusion'],\n",
       " ['central', 'venous', 'dialysis', 'catheter', 'unchanged', 'in', 'position'],\n",
       " ['heart', 'and', 'mediastinal', 'contours', 'are', 'normal'],\n",
       " ['osseous', 'structures', 'intact']]"
      ]
     },
     "execution_count": 20,
     "metadata": {},
     "output_type": "execute_result"
    }
   ],
   "source": [
    "b"
   ]
  },
  {
   "cell_type": "code",
   "execution_count": 32,
   "id": "fe56feae-1f7a-4d7a-9fe1-d0071e0e53c5",
   "metadata": {},
   "outputs": [
    {
     "data": {
      "text/plain": [
       "[['there', 'is', 'spondylosis'],\n",
       " ['mediastinum', 'normal'],\n",
       " ['negative', 'for', 'pneumothorax', 'or', 'pleural', 'effusion']]"
      ]
     },
     "execution_count": 32,
     "metadata": {},
     "output_type": "execute_result"
    }
   ],
   "source": [
    "a[0]"
   ]
  },
  {
   "cell_type": "code",
   "execution_count": 33,
   "id": "ac086b8a-fe04-423a-82e9-9760b76e2f3d",
   "metadata": {},
   "outputs": [
    {
     "data": {
      "text/plain": [
       "['lungs', 'are', 'clear']"
      ]
     },
     "execution_count": 33,
     "metadata": {},
     "output_type": "execute_result"
    }
   ],
   "source": [
    "b[0]"
   ]
  },
  {
   "cell_type": "code",
   "execution_count": null,
   "id": "8c14aae3-0d4f-4d0a-a94f-d75276106cf1",
   "metadata": {},
   "outputs": [],
   "source": []
  }
 ],
 "metadata": {
  "kernelspec": {
   "display_name": "X-ray_CUDA",
   "language": "python",
   "name": "x-ray_cuda"
  },
  "language_info": {
   "codemirror_mode": {
    "name": "ipython",
    "version": 3
   },
   "file_extension": ".py",
   "mimetype": "text/x-python",
   "name": "python",
   "nbconvert_exporter": "python",
   "pygments_lexer": "ipython3",
   "version": "3.7.11"
  }
 },
 "nbformat": 4,
 "nbformat_minor": 5
}
