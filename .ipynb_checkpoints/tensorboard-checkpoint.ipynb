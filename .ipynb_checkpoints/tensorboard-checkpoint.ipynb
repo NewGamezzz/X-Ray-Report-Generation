{
 "cells": [
  {
   "cell_type": "code",
   "execution_count": 4,
   "id": "3aa5cc36-3d59-4157-b820-3e28c67b6233",
   "metadata": {},
   "outputs": [],
   "source": [
    "from torchsummary import summary\n",
    "import numpy as np\n",
    "import torch\n",
    "from torch.utils.tensorboard import SummaryWriter\n",
    "import pandas as pd\n",
    "from utils.utils import *"
   ]
  },
  {
   "cell_type": "code",
   "execution_count": 2,
   "id": "5bdc18d2-8016-41c6-8d37-d621cd5b4a1f",
   "metadata": {},
   "outputs": [],
   "source": [
    "df_train = pd.read_csv('data/training_set.csv')\n",
    "df_test = pd.read_csv('data/testing_set.csv')"
   ]
  },
  {
   "cell_type": "code",
   "execution_count": 7,
   "id": "f31dda1c-c23e-41d0-9fe2-118dc89bb46c",
   "metadata": {},
   "outputs": [],
   "source": [
    "sentence_dict = []\n",
    "for i, report in enumerate(df_train[\"Findings\"]):\n",
    "    _, sentence = tokenize_report(report)\n",
    "    for sent in sentence:\n",
    "        if sent not in sentence_dict:\n",
    "            sentence_dict.append(sent)"
   ]
  },
  {
   "cell_type": "code",
   "execution_count": 18,
   "id": "b013fe0d-62a2-42cc-8cc0-f37507d8c68f",
   "metadata": {},
   "outputs": [],
   "source": [
    "##Load Model (Sbert)\n",
    "model = SentenceTransformer('paraphrase-MiniLM-L6-v2')\n",
    "\n",
    "#Our sentences we like to encode\n",
    "sentences = sentence_dict\n",
    "sentences.remove('')\n",
    "\n",
    "#Sentences are encoded by calling model.encode()\n",
    "embeddings = model.encode(sentences)"
   ]
  },
  {
   "cell_type": "code",
   "execution_count": 21,
   "id": "ea8645f8-cb06-429a-bc82-dad89b28e811",
   "metadata": {},
   "outputs": [
    {
     "name": "stdout",
     "output_type": "stream",
     "text": [
      "(5401, 384) 5401\n"
     ]
    }
   ],
   "source": [
    "print(embeddings.shape, len(sentences))"
   ]
  },
  {
   "cell_type": "code",
   "execution_count": 20,
   "id": "aa89a2da-15ff-46f5-b94b-456f49c9e445",
   "metadata": {},
   "outputs": [],
   "source": [
    "writer = SummaryWriter()\n",
    "writer.add_embedding(embeddings, sentences)"
   ]
  },
  {
   "cell_type": "markdown",
   "id": "394ab32c-8b21-4da4-9cf3-92fa2d7bf7ee",
   "metadata": {
    "tags": []
   },
   "source": [
    "# TMLCC Tensorboard Example"
   ]
  },
  {
   "cell_type": "code",
   "execution_count": 15,
   "id": "fdc00332-97ac-4d67-8738-caf81c5defab",
   "metadata": {},
   "outputs": [],
   "source": [
    "df = pd.read_csv('Latent_feat_last_hope_train.csv')\n",
    "df_num = pd.read_csv('clean_train.csv').set_index('MOFname')\n",
    "df_topo = pd.read_csv('train.csv').set_index('MOFname').topology\n",
    "y = df.drop(['target', 'mofname'], axis=1).to_numpy()\n",
    "label = df['target'].to_numpy()\n",
    "error = np.abs(df['target'].to_numpy() - df['predict'].to_numpy())"
   ]
  },
  {
   "cell_type": "code",
   "execution_count": 16,
   "id": "fb180e4f-e55a-410c-901d-88e8a76f971f",
   "metadata": {},
   "outputs": [],
   "source": [
    "df = df.join(df_num, on='mofname')\n",
    "surface_area = df['surface_area [m^2/g]']\n",
    "df = df.join(df_topo, on='mofname')\n",
    "topo = df['topology']"
   ]
  },
  {
   "cell_type": "code",
   "execution_count": 17,
   "id": "33dd4272-e7a0-4466-9040-beb8fd6623be",
   "metadata": {},
   "outputs": [],
   "source": [
    "metadata_dict = {}\n",
    "metadata_dict['target'] = label\n",
    "metadata_dict['error'] = error\n",
    "metadata_dict['surface area'] = surface_area\n",
    "metadata_dict['topology'] = topo"
   ]
  },
  {
   "cell_type": "code",
   "execution_count": 18,
   "id": "89a3fb82-122b-468c-8ea5-3f2548dd2e7d",
   "metadata": {},
   "outputs": [
    {
     "name": "stdout",
     "output_type": "stream",
     "text": [
      "['volume [A^3]', 'weight [u]', 'density [g/cm^3]', 'void_fraction', 'void_volume [cm^3/g]', 'functional_groups', 'metal_linker', 'organic_linker1', 'organic_linker2', 'catalog CO2/N2', 'CO2/N2_selectivity', 'heat_adsorption_CO2_P0.15bar_T298K [kcal/mol]']\n"
     ]
    }
   ],
   "source": [
    "feat = list(df_num.columns)[10:]\n",
    "feat.remove('surface_area [m^2/g]')\n",
    "feat.remove('CO2_working_capacity [mL/g]')\n",
    "print(feat)"
   ]
  },
  {
   "cell_type": "code",
   "execution_count": 19,
   "id": "c8124e2d-3a79-4864-880b-3ff1fbaf7180",
   "metadata": {},
   "outputs": [],
   "source": [
    "for col in feat:\n",
    "    metadata_dict[col] = df[col].values"
   ]
  },
  {
   "cell_type": "code",
   "execution_count": 20,
   "id": "380ce521-b417-4ab9-a8e1-28b68362cad3",
   "metadata": {},
   "outputs": [],
   "source": [
    "writer = SummaryWriter()\n",
    "writer.add_embedding(y, metadata=list(zip(*metadata_dict.values())),\n",
    "              metadata_header=metadata_dict.keys())"
   ]
  },
  {
   "cell_type": "code",
   "execution_count": 62,
   "id": "05d99e89-8bf3-40dd-87ce-7a9b03cd5b96",
   "metadata": {},
   "outputs": [],
   "source": [
    "import matplotlib.pyplot as plt"
   ]
  },
  {
   "cell_type": "code",
   "execution_count": 120,
   "id": "3354c35a-8f4d-442a-b863-fc69ccb2d0c1",
   "metadata": {},
   "outputs": [
    {
     "name": "stdout",
     "output_type": "stream",
     "text": [
      "target\n",
      "error\n",
      "surface area\n",
      "topology\n",
      "volume [A^3]\n",
      "weight [u]\n",
      "density [g/cm^3]\n",
      "void_fraction\n",
      "void_volume [cm^3/g]\n",
      "functional_groups\n",
      "metal_linker\n",
      "organic_linker1\n",
      "organic_linker2\n",
      "catalog CO2/N2\n",
      "CO2/N2_selectivity\n",
      "heat_adsorption_CO2_P0.15bar_T298K [kcal/mol]\n"
     ]
    }
   ],
   "source": [
    "for i in metadata_dict:\n",
    "    print(i)"
   ]
  },
  {
   "cell_type": "code",
   "execution_count": null,
   "id": "9bd23390-9b8e-4f32-ae45-ac8eed31854e",
   "metadata": {},
   "outputs": [],
   "source": [
    "%tensorboard --logdir=runs"
   ]
  }
 ],
 "metadata": {
  "kernelspec": {
   "display_name": "X-ray_CUDA",
   "language": "python",
   "name": "x-ray_cuda"
  },
  "language_info": {
   "codemirror_mode": {
    "name": "ipython",
    "version": 3
   },
   "file_extension": ".py",
   "mimetype": "text/x-python",
   "name": "python",
   "nbconvert_exporter": "python",
   "pygments_lexer": "ipython3",
   "version": "3.7.11"
  }
 },
 "nbformat": 4,
 "nbformat_minor": 5
}
