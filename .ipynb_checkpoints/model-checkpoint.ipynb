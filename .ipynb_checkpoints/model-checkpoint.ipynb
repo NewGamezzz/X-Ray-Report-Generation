{
 "cells": [
  {
   "cell_type": "code",
   "execution_count": 1,
   "id": "cbc66e8f-84fc-4742-9ba5-f685bbeaee1f",
   "metadata": {},
   "outputs": [],
   "source": [
    "import torch\n",
    "import torch.nn as nn\n",
    "import torchvision.transforms as T\n",
    "from torch.utils.data import Dataset, DataLoader\n",
    "from torch.optim.lr_scheduler import ReduceLROnPlateau\n",
    "from torchvision.models import resnet50\n",
    "import numpy as np\n",
    "import pandas as pd\n",
    "import cv2\n",
    "import os\n",
    "import pickle\n",
    "import torch.nn.functional as F\n",
    "from torch.utils.tensorboard import SummaryWriter\n",
    "from PIL import Image\n",
    "import matplotlib.pyplot as plt\n",
    "from sentence_transformers import SentenceTransformer\n",
    "from nltk.translate.bleu_score import sentence_bleu\n",
    "from transformers import XLNetConfig, AutoConfig\n",
    "from tokenizers import ByteLevelBPETokenizer\n",
    "from tokenizers.processors import BertProcessing\n",
    "from torchsummary import summary\n",
    "from tensorboard.plugins import projector\n",
    "from scipy.optimize import linear_sum_assignment\n",
    "from utils.utils import *\n",
    "from utils.assignment import *\n",
    "from utils.latent_loss import *\n",
    "from model.model import *"
   ]
  },
  {
   "cell_type": "markdown",
   "id": "66a4a20e-2697-4d37-9d12-28e9dfaad424",
   "metadata": {},
   "source": [
    "# Set Cuda"
   ]
  },
  {
   "cell_type": "code",
   "execution_count": 2,
   "id": "4d78b846-30fe-45fc-8299-51bf3eaeec6a",
   "metadata": {},
   "outputs": [
    {
     "data": {
      "text/plain": [
       "device(type='cuda')"
      ]
     },
     "execution_count": 2,
     "metadata": {},
     "output_type": "execute_result"
    }
   ],
   "source": [
    "def format_pytorch_version(version):\n",
    "    return version.split('+')[0]\n",
    "\n",
    "TORCH_version = torch.__version__\n",
    "TORCH = format_pytorch_version(TORCH_version)\n",
    "\n",
    "def format_cuda_version(version):\n",
    "    return 'cu' + version.replace('.', '')\n",
    "\n",
    "CUDA_version = torch.version.cuda\n",
    "CUDA = format_cuda_version(CUDA_version)\n",
    "\n",
    "device = torch.device('cuda' if torch.cuda.is_available() else 'cpu')\n",
    "device"
   ]
  },
  {
   "cell_type": "markdown",
   "id": "214fd5f7-bf5a-47cc-9155-ba3d387a5bfa",
   "metadata": {},
   "source": [
    "# DataSet & DataLoader"
   ]
  },
  {
   "cell_type": "code",
   "execution_count": 3,
   "id": "2194d316-7e1b-4205-ba61-6a70c964ac54",
   "metadata": {},
   "outputs": [
    {
     "name": "stdout",
     "output_type": "stream",
     "text": [
      "[1, 267, 650, 465, 317, 695, 424, 299, 426, 360, 476, 2]\n",
      "<s>the cardiac silhouette and mediastinum size are within normal limits</s>\n"
     ]
    }
   ],
   "source": [
    "tokenizer = ByteLevelBPETokenizer(\n",
    "    os.path.abspath(os.path.join('tokenizer','vocab.json')),\n",
    "    os.path.abspath(os.path.join('tokenizer','merges.txt'))\n",
    ")\n",
    "\n",
    "tokenizer._tokenizer.post_processor = BertProcessing(\n",
    "    (\"</s>\", tokenizer.token_to_id(\"</s>\")),\n",
    "    (\"<s>\", tokenizer.token_to_id(\"<s>\")),\n",
    ")\n",
    "print(tokenizer.encode('the cardiac silhouette and mediastinum size are within normal limits').ids)\n",
    "print(tokenizer.decode([1, 267, 650, 465, 317, 695, 424, 299, 426, 360, 476, 2]))"
   ]
  },
  {
   "cell_type": "code",
   "execution_count": 4,
   "id": "319f6e33-20f6-440c-939d-9c679db26c42",
   "metadata": {
    "tags": []
   },
   "outputs": [],
   "source": [
    "class XRayDataset(Dataset):\n",
    "    def __init__(self, data, img_dir, transform, max_sentence, tokenizer, max_t): ## add max_sentence\n",
    "        self.data = data\n",
    "        self.img_dir = img_dir\n",
    "        self.transform = transform\n",
    "        self.max_sentence = max_sentence\n",
    "        self.max_t = max_t\n",
    "        self.sbert = SentenceTransformer('paraphrase-MiniLM-L6-v2')\n",
    "        \n",
    "        self.tokenizer = tokenizer\n",
    "\n",
    "    def __len__(self):\n",
    "        return len(self.data)\n",
    "\n",
    "    def __getitem__(self, idx):\n",
    "        img_path = os.path.join(self.img_dir, self.data.iloc[idx, 0])\n",
    "        image = Image.open(img_path).resize((256, 256))\n",
    "        label = self.data.iloc[idx, 2]\n",
    "        \n",
    "        image = transform_img(image, self.transform)\n",
    "        _, label = tokenize_report(label)\n",
    "        if '' in label:\n",
    "            label.remove('')\n",
    "        \n",
    "        embedding = self.sbert.encode(label)\n",
    "        embedding = torch.tensor(embedding)\n",
    "        \n",
    "        id_ = torch.zeros((self.max_sentence, self.max_t)).long()\n",
    "        for i, sent in enumerate(label):\n",
    "            input_ids = self.tokenizer.encode(sent).ids\n",
    "            for j, word in enumerate(input_ids):\n",
    "                id_[i, j] = word\n",
    "        \n",
    "        len_ = len(label)\n",
    "        len_ = torch.tensor(len_, dtype=torch.int32)\n",
    "        \n",
    "        embedding = F.pad(embedding, (0, 0, 0, self.max_sentence-len_), value=-1)\n",
    "        \n",
    "        return image[0], embedding, id_, len_"
   ]
  },
  {
   "cell_type": "code",
   "execution_count": 5,
   "id": "8b0f670e-a219-45ce-9b5f-ccc9b5dc9603",
   "metadata": {},
   "outputs": [],
   "source": [
    "df_train = pd.read_csv('data/train_clean.csv')\n",
    "df_test = pd.read_csv('data/testing_set.csv')\n",
    "\n",
    "df_train = df_train[np.logical_not(df_train.Findings == 'startseq  endseq')]\n",
    "df_test = df_test[np.logical_not(df_test.Findings == 'startseq  endseq')]\n",
    "\n",
    "df_train = df_train.reset_index(drop=True)\n",
    "df_test = df_test.reset_index(drop=True)\n",
    "\n",
    "img_path = 'data/images'\n",
    "max_sentence = 18\n",
    "max_t = 60\n",
    "\n",
    "transform = T.Compose([\n",
    "    T.Resize(256),\n",
    "    T.ToTensor(),\n",
    "    T.Normalize(mean=[0.485, 0.456, 0.406],\n",
    "                std=[0.229, 0.224, 0.225])\n",
    "])\n",
    "\n",
    "tokenizer = ByteLevelBPETokenizer(\n",
    "    os.path.abspath(os.path.join('tokenizer','vocab.json')),\n",
    "    os.path.abspath(os.path.join('tokenizer','merges.txt'))\n",
    ")\n",
    "tokenizer._tokenizer.post_processor = BertProcessing(\n",
    "    (\"</s>\", tokenizer.token_to_id(\"</s>\")),\n",
    "    (\"<s>\", tokenizer.token_to_id(\"<s>\")),\n",
    ")\n",
    "\n",
    "vocab_size = len(tokenizer.get_vocab())"
   ]
  },
  {
   "cell_type": "code",
   "execution_count": 6,
   "id": "cd821a44-f1e6-41b0-a214-9f33786f609b",
   "metadata": {},
   "outputs": [],
   "source": [
    "train_data = XRayDataset(df_train, img_path, transform, max_sentence, tokenizer, max_t)\n",
    "test_data = XRayDataset(df_test, img_path, transform, max_sentence, tokenizer, max_t)\n",
    "train_loader = DataLoader(train_data, batch_size=16, shuffle=True)\n",
    "test_loader = DataLoader(test_data, batch_size=16, shuffle=True)"
   ]
  },
  {
   "cell_type": "code",
   "execution_count": 7,
   "id": "65d888bc-27dd-4a1c-b693-bd64f54de1ac",
   "metadata": {},
   "outputs": [
    {
     "name": "stdout",
     "output_type": "stream",
     "text": [
      "torch.Size([16, 18, 60])\n",
      "torch.Size([16, 18, 60])\n",
      "torch.Size([16, 18, 60])\n"
     ]
    }
   ],
   "source": [
    "for i, data in enumerate(train_loader):\n",
    "    if i < 3:\n",
    "        print(data[-2].shape)"
   ]
  },
  {
   "cell_type": "markdown",
   "id": "3d488792-378d-4cf1-881a-f1d29f568e05",
   "metadata": {
    "tags": []
   },
   "source": [
    "# Model"
   ]
  },
  {
   "cell_type": "code",
   "execution_count": 8,
   "id": "aeb3d572-6e9e-4fc3-b1f5-cde36541967b",
   "metadata": {},
   "outputs": [],
   "source": [
    "class SetPredictLSP(nn.Module):\n",
    "    def __init__(self, device, hidden_dim=384, nhead=4, nlayers=3, max_sentence=18, vocab_size=3160, pad_token_id=0, max_t=60, dropout=0.4):\n",
    "        super().__init__()\n",
    "        \n",
    "        self.hidden_dim = hidden_dim\n",
    "        self.cnn_text = CNN_Text(device=device)\n",
    "        self.hungarian = MSEGCRLatentLoss()\n",
    "        \n",
    "        self.decoder = LSPDecoder(vocab_size = vocab_size, pad_token_id=pad_token_id, max_t=max_t, dropout=dropout)\n",
    "        \n",
    "        self.mlp = MLP().to(device)\n",
    "        self.mlp.load_state_dict(torch.load('model/weights/length_model_best.pt'))\n",
    "        \n",
    "        self.max_t = max_sentence\n",
    "        \n",
    "    def forward(self, X, y, len_y, input_id, labels):\n",
    "        '''\n",
    "        X is image (bs, 3, H, W)\n",
    "        R's shape is (bs, length, hidden_dim)\n",
    "        feat will be use for the transformer decoder\n",
    "        '''\n",
    "        bs = X.shape[0]\n",
    "        R, feat = self.cnn_text(X) \n",
    "        \n",
    "        R = flat_by_lengths(R, (torch.ones((bs))*20).to(device))\n",
    "        y = flat_by_lengths_max_t(y, len_y, self.max_t)\n",
    "        R_pi, R_i, hung_loss = self.hungarian.forward(y, len_y, R, (torch.ones(bs, dtype=int)*20).to(device))\n",
    "        \n",
    "        context_series = expand_by_lengths(feat, len_y)\n",
    "        ce_loss, logit = self.decoder(input_id, R_pi, context_series, labels)\n",
    "        \n",
    "        return logit, ce_loss, hung_loss\n",
    "    \n",
    "    def predict(self, X):\n",
    "        R, feat = self.cnn_text(X) \n",
    "        len_R = self.mlp(X)\n",
    "        len_R = torch.round(len_R).flatten()\n",
    "        \n",
    "        R = self.transformer_decoder(R.transpose(0, 1), feat).transpose(0, 1)\n",
    "        R = flat_by_lengths_max_t(R, len_R, 20)\n",
    "        x = self.linear(R)\n",
    "        output = self.output(x)\n",
    "        \n",
    "        return output, len_R"
   ]
  },
  {
   "cell_type": "code",
   "execution_count": 48,
   "id": "dbfb1baf-ad87-4142-996b-7e9fd331d820",
   "metadata": {},
   "outputs": [],
   "source": [
    "model = SetPredictLSP(device).to(device)\n",
    "\n",
    "params_to_update = model.parameters()\n",
    "\n",
    "# print(\"Params to learn:\")\n",
    "params_to_update = []\n",
    "for name,param in model.named_parameters():\n",
    "    if param.requires_grad == True:\n",
    "        params_to_update.append(param)\n",
    "#         print(\"\\t\",name)\n",
    "\n",
    "optimizer = torch.optim.Adam(params_to_update, lr=0.001)\n",
    "criterion = torch.nn.CrossEntropyLoss()\n",
    "scheduler = ReduceLROnPlateau(optimizer, 'min', factor=0.3, patience=2, min_lr=0.000001)"
   ]
  },
  {
   "cell_type": "code",
   "execution_count": 49,
   "id": "f9a082eb-8f43-46c4-bb0a-be09823d1830",
   "metadata": {},
   "outputs": [],
   "source": [
    "def train(train_loader):\n",
    "    model.train()\n",
    "    c=0\n",
    "    correct=0\n",
    "    hung = 0\n",
    "    for X, y, id_, len_y in train_loader:  # Iterate in batches over the training dataset.\n",
    "        label = flat_by_lengths_max_t(id_.to(device), len_y.to(device), 18)\n",
    "        input_id = flat_by_lengths_max_t(id_.to(device), len_y.to(device), 18)\n",
    "        out, ce_loss, hung_loss = model(X.to(device), y.to(device), len_y.to(device), input_id, label)\n",
    "    \n",
    "        total_loss = ce_loss + hung_loss\n",
    "        total_loss.backward()  # Derive gradients.\n",
    "        optimizer.step()  # Update parameters based on gradients.\n",
    "        optimizer.zero_grad()  # Clear gradients.\n",
    "\n",
    "        loss = ce_loss # Compute the loss.\n",
    "        c=c+1\n",
    "        correct+=loss.cpu().detach().numpy()\n",
    "        hung+=hung_loss.cpu().detach().numpy()\n",
    "    return correct/c, hung/c\n",
    "\n",
    "def test(loader):\n",
    "    model.eval()\n",
    "    correct = 0\n",
    "    hung = 0\n",
    "    c=0\n",
    "    for X, y, id_, len_y in loader:  # Iterate in batches over the training/test dataset.\n",
    "        label = flat_by_lengths_max_t(id_.to(device), len_y.to(device), 18)\n",
    "        input_id = flat_by_lengths_max_t(id_.to(device), len_y.to(device), 18)\n",
    "        out, ce_loss, hung_loss = model(X.to(device), y.to(device), len_y.to(device), input_id, label)\n",
    "    \n",
    "        correct += ce_loss.cpu().detach().numpy()  # Check against ground-truth labels.\n",
    "        hung+=hung_loss.cpu().detach().numpy()\n",
    "        c=c+1\n",
    "    return correct / c, hung/c # Derive ratio of correct predictions."
   ]
  },
  {
   "cell_type": "code",
   "execution_count": 50,
   "id": "c75bee15-07d5-4ce4-906f-e7804877048f",
   "metadata": {},
   "outputs": [
    {
     "name": "stdout",
     "output_type": "stream",
     "text": [
      "start train\n",
      "Epoch: 001, Train CrossEntropy: 3.3203, Test CrossEntropy: 2.2739, Hung: 0.6787, 0.5171\n",
      "Minimum Loss: 2.2738979525036283\n",
      "Epoch: 002, Train CrossEntropy: 2.2915, Test CrossEntropy: 2.0286, Hung: 0.3847, 0.2563\n",
      "Minimum Loss: 2.028577853132177\n",
      "Epoch: 003, Train CrossEntropy: 2.1043, Test CrossEntropy: 1.8363, Hung: 0.1798, 0.1300\n",
      "Minimum Loss: 1.8362502875151459\n",
      "Epoch: 004, Train CrossEntropy: 1.9749, Test CrossEntropy: 1.7337, Hung: 0.1185, 0.1106\n",
      "Minimum Loss: 1.733694800624141\n",
      "Epoch: 005, Train CrossEntropy: 1.8903, Test CrossEntropy: 1.6854, Hung: 0.1098, 0.1083\n",
      "Minimum Loss: 1.6854215418850933\n",
      "Epoch: 006, Train CrossEntropy: 1.8274, Test CrossEntropy: 1.5998, Hung: 0.1082, 0.1059\n",
      "Minimum Loss: 1.5997518212706954\n",
      "Epoch: 007, Train CrossEntropy: 1.7741, Test CrossEntropy: 1.5345, Hung: 0.1072, 0.1049\n",
      "Minimum Loss: 1.534488360087077\n",
      "Epoch: 008, Train CrossEntropy: 1.7238, Test CrossEntropy: 1.5436, Hung: 0.1061, 0.1050\n",
      "Epoch: 009, Train CrossEntropy: 1.6893, Test CrossEntropy: 1.4925, Hung: 0.1060, 0.1049\n",
      "Minimum Loss: 1.492462780740526\n",
      "Epoch: 010, Train CrossEntropy: 1.6503, Test CrossEntropy: 1.4725, Hung: 0.1061, 0.1052\n",
      "Minimum Loss: 1.4725213668964527\n",
      "Epoch: 011, Train CrossEntropy: 1.6243, Test CrossEntropy: 1.4464, Hung: 0.1056, 0.1040\n",
      "Minimum Loss: 1.446414589881897\n",
      "Epoch: 012, Train CrossEntropy: 1.6038, Test CrossEntropy: 1.4333, Hung: 0.1054, 0.1031\n",
      "Minimum Loss: 1.4333198644496776\n",
      "Epoch: 013, Train CrossEntropy: 1.5870, Test CrossEntropy: 1.4249, Hung: 0.1048, 0.1033\n",
      "Minimum Loss: 1.4249441270475034\n",
      "Epoch: 014, Train CrossEntropy: 1.5666, Test CrossEntropy: 1.3843, Hung: 0.1049, 0.1038\n",
      "Minimum Loss: 1.3843216101328533\n",
      "Epoch: 015, Train CrossEntropy: 1.5509, Test CrossEntropy: 1.3775, Hung: 0.1047, 0.1057\n",
      "Minimum Loss: 1.3774795223165441\n",
      "Epoch: 016, Train CrossEntropy: 1.5323, Test CrossEntropy: 1.3855, Hung: 0.1033, 0.1091\n",
      "Epoch: 017, Train CrossEntropy: 1.5164, Test CrossEntropy: 1.3953, Hung: 0.1013, 0.1079\n",
      "Epoch: 018, Train CrossEntropy: 1.5096, Test CrossEntropy: 1.3683, Hung: 0.1004, 0.1123\n",
      "Minimum Loss: 1.368340743912591\n",
      "Epoch: 019, Train CrossEntropy: 1.5037, Test CrossEntropy: 1.3953, Hung: 0.1003, 0.1068\n",
      "Epoch: 020, Train CrossEntropy: 1.4951, Test CrossEntropy: 1.5756, Hung: 0.0999, 0.1613\n",
      "Epoch: 021, Train CrossEntropy: 1.4680, Test CrossEntropy: 1.3559, Hung: 0.0996, 0.1037\n",
      "Minimum Loss: 1.355873116740474\n",
      "Epoch: 022, Train CrossEntropy: 1.4527, Test CrossEntropy: 1.3435, Hung: 0.0983, 0.1069\n",
      "Minimum Loss: 1.3434680700302124\n",
      "Epoch: 023, Train CrossEntropy: 1.4416, Test CrossEntropy: 1.3415, Hung: 0.0972, 0.1045\n",
      "Minimum Loss: 1.3415050992259272\n",
      "Epoch: 024, Train CrossEntropy: 1.4281, Test CrossEntropy: 1.3378, Hung: 0.0972, 0.1066\n",
      "Minimum Loss: 1.33784423271815\n",
      "Epoch: 025, Train CrossEntropy: 1.4226, Test CrossEntropy: 1.3737, Hung: 0.0974, 0.1077\n",
      "Epoch: 026, Train CrossEntropy: 1.4213, Test CrossEntropy: 1.3357, Hung: 0.0968, 0.1053\n",
      "Minimum Loss: 1.335679120487637\n",
      "Epoch: 027, Train CrossEntropy: 1.4084, Test CrossEntropy: 1.3316, Hung: 0.0965, 0.1101\n",
      "Minimum Loss: 1.331618865331014\n",
      "Epoch: 028, Train CrossEntropy: 1.3934, Test CrossEntropy: 4.4923, Hung: 0.0961, 0.4577\n",
      "Epoch: 029, Train CrossEntropy: 1.3954, Test CrossEntropy: 1.3201, Hung: 0.0962, 0.1070\n",
      "Minimum Loss: 1.3200743860668607\n",
      "Epoch: 030, Train CrossEntropy: 1.3828, Test CrossEntropy: 1.3411, Hung: 0.0962, 0.1074\n"
     ]
    }
   ],
   "source": [
    "train_loss = []\n",
    "val_loss = []\n",
    "test_loss = []\n",
    "epochs = 30\n",
    "min_loss = 100\n",
    "print('start train')\n",
    "\n",
    "for epoch in range(epochs):\n",
    "    train_acc, hung_train = train(train_loader)\n",
    "    test_acc, hung_test= test(test_loader)\n",
    "    train_loss.append((train_acc, hung_train))\n",
    "    test_loss.append((test_acc, hung_test))\n",
    "#     scheduler.step(test_acc)\n",
    "    print(f'Epoch: {epoch+1:03d}, Train CrossEntropy: {train_acc:.4f}, Test CrossEntropy: {test_acc:.4f}, Hung: {hung_train:.4f}, {hung_test:.4f}')\n",
    "    if min_loss > test_acc:\n",
    "        min_loss = test_acc\n",
    "        print('Minimum Loss: {}'.format(min_loss))\n",
    "        torch.save(model.state_dict(), \"model/weights/SetPredict_ver4.pt\")"
   ]
  },
  {
   "cell_type": "code",
   "execution_count": 51,
   "id": "940e15f4-32ac-44dd-82e9-f64ca4c28246",
   "metadata": {},
   "outputs": [
    {
     "data": {
      "image/png": "[encoded data removed]",
      "text/plain": [
       "<Figure size 432x288 with 1 Axes>"
      ]
     },
     "metadata": {
      "needs_background": "light"
     },
     "output_type": "display_data"
    }
   ],
   "source": [
    "plt.title('loss')\n",
    "plt.plot(np.arange(epochs), train_loss, label='train loss')\n",
    "plt.plot(np.arange(epochs), test_loss, label='val loss')\n",
    "\n",
    "plt.legend()\n",
    "plt.show()"
   ]
  },
  {
   "cell_type": "code",
   "execution_count": 52,
   "id": "956c9fe3-dffb-4dbc-b785-c4fead960c91",
   "metadata": {},
   "outputs": [],
   "source": [
    "train_loss_np = np.array(train_loss)\n",
    "test_loss_np = np.array(test_loss)"
   ]
  },
  {
   "cell_type": "code",
   "execution_count": 53,
   "id": "50dd47f8-e6f9-48f5-b1ed-f1801963f13e",
   "metadata": {},
   "outputs": [
    {
     "data": {
      "image/png": "[encoded data removed]",
      "text/plain": [
       "<Figure size 432x288 with 1 Axes>"
      ]
     },
     "metadata": {
      "needs_background": "light"
     },
     "output_type": "display_data"
    }
   ],
   "source": [
    "plt.title('CrossEntropy Loss')\n",
    "plt.plot(np.arange(epochs), train_loss_np[:, 0], label='train loss')\n",
    "plt.plot(np.arange(epochs), test_loss_np[:, 0], label='val loss')\n",
    "\n",
    "plt.legend()\n",
    "plt.show()"
   ]
  },
  {
   "cell_type": "code",
   "execution_count": 54,
   "id": "2ec27d85-58e8-4d70-85a1-f55d2958f225",
   "metadata": {},
   "outputs": [
    {
     "data": {
      "image/png": "[encoded data removed]",
      "text/plain": [
       "<Figure size 432x288 with 1 Axes>"
      ]
     },
     "metadata": {
      "needs_background": "light"
     },
     "output_type": "display_data"
    }
   ],
   "source": [
    "plt.title('Hungarian Loss')\n",
    "plt.plot(np.arange(epochs), train_loss_np[:, 1], label='train loss')\n",
    "plt.plot(np.arange(epochs), test_loss_np[:, 1], label='val loss')\n",
    "\n",
    "plt.legend()\n",
    "plt.show()"
   ]
  },
  {
   "cell_type": "code",
   "execution_count": 55,
   "id": "cb5a753b-0687-4b90-bea2-7b8d616ae9d3",
   "metadata": {},
   "outputs": [],
   "source": [
    "torch.save(model.state_dict(), \"model/weights/SetPredict_last4.pt\")"
   ]
  },
  {
   "cell_type": "markdown",
   "id": "ffc50362-f8cc-48d2-a4a1-e812ce234c68",
   "metadata": {},
   "source": [
    "# Inference"
   ]
  },
  {
   "cell_type": "code",
   "execution_count": 9,
   "id": "f2513ad5-adc9-4378-9da9-b893def5f5aa",
   "metadata": {},
   "outputs": [
    {
     "name": "stdout",
     "output_type": "stream",
     "text": [
      "\n"
     ]
    }
   ],
   "source": [
    "model = SetPredictLSP(device).to(device)\n",
    "\n",
    "model.eval()\n",
    "print()"
   ]
  },
  {
   "cell_type": "code",
   "execution_count": 10,
   "id": "78111790-b848-4270-922a-643656baaa16",
   "metadata": {},
   "outputs": [
    {
     "data": {
      "text/plain": [
       "<All keys matched successfully>"
      ]
     },
     "execution_count": 10,
     "metadata": {},
     "output_type": "execute_result"
    }
   ],
   "source": [
    "model.load_state_dict(torch.load('model/weights/SetPredict_ver3.pt'))"
   ]
  },
  {
   "cell_type": "code",
   "execution_count": 25,
   "id": "b6981e95-3ef6-498c-8873-702a7260fbc9",
   "metadata": {},
   "outputs": [],
   "source": [
    "df_train = pd.read_csv('data/training_set.csv')\n",
    "df_test = pd.read_csv('data/testing_set.csv')\n",
    "\n",
    "img_path = 'data/images'\n",
    "max_sentence = 18\n",
    "\n",
    "transform = T.Compose([\n",
    "    T.Resize(256),\n",
    "    T.ToTensor(),\n",
    "    T.Normalize(mean=[0.485, 0.456, 0.406],\n",
    "                std=[0.229, 0.224, 0.225])\n",
    "])\n",
    "\n",
    "encoder = pickle.load(open('data/sentence_encoder.pkl', 'rb'))\n",
    "decoder = pickle.load(open('data/sentence_decoder.pkl', 'rb'))"
   ]
  },
  {
   "cell_type": "code",
   "execution_count": 26,
   "id": "65372652-c18c-46fd-8c39-6b8fcea9c00c",
   "metadata": {},
   "outputs": [],
   "source": [
    "train_data = XRayDataset(df_train, img_path, transform, max_sentence, encoder)\n",
    "test_data = XRayDataset(df_test, img_path, transform, max_sentence, encoder)\n",
    "train_loader = DataLoader(train_data, batch_size=81, shuffle=False)\n",
    "test_loader = DataLoader(test_data, batch_size=81, shuffle=False)"
   ]
  },
  {
   "cell_type": "code",
   "execution_count": 11,
   "id": "e1befb2e-4752-43c3-a855-1e745de4b287",
   "metadata": {},
   "outputs": [],
   "source": [
    "actual_train = []\n",
    "predicted_train = []\n",
    "R = []\n",
    "for X, y, id_, len_y in test_loader:  # Iterate in batches over the training/test dataset.\n",
    "    label = flat_by_lengths_max_t(id_.to(device), len_y.to(device), 18)\n",
    "    input_id = flat_by_lengths_max_t(id_.to(device), len_y.to(device), 18)\n",
    "    out, ce_loss, hung_loss = model(X.to(device), y.to(device), len_y.to(device), input_id, label)\n",
    "#     R_pi = flat_by_lengths(R_pi, len_y.to(device))\n",
    "    \n",
    "    actual_train.append(label.cpu().detach().numpy())\n",
    "    predicted_train.append(out.cpu().detach().numpy())\n",
    "#     R.append(R_pi.cpu().detach().numpy())"
   ]
  },
  {
   "cell_type": "code",
   "execution_count": 12,
   "id": "555a05da-3b7a-4824-a8cc-823ab1b69c78",
   "metadata": {},
   "outputs": [
    {
     "data": {
      "text/plain": [
       "array([267, 286, 332, 334, 636,   2, 917, 479, 479,   2, 573,   2,   2,\n",
       "         2,   2,   2,   2,   2,   2, 300,   2, 270,   2,   2,   2,   2,\n",
       "         2,   2,   2,   2,   2,   2,   2,   2,   2,   2, 557, 557,   2,\n",
       "       666, 557, 291, 703, 557, 917,   2, 300, 557,   2,   2, 300,   2,\n",
       "         2, 506,   2, 917,   2,   2, 291, 557], dtype=int64)"
      ]
     },
     "execution_count": 12,
     "metadata": {},
     "output_type": "execute_result"
    }
   ],
   "source": [
    "predicted_train[0].argmax(axis=-1)[1]"
   ]
  },
  {
   "cell_type": "code",
   "execution_count": 63,
   "id": "26b81c49-453f-443c-81a9-3e3019722228",
   "metadata": {},
   "outputs": [
    {
     "name": "stdout",
     "output_type": "stream",
     "text": [
      "the is been interval placement of multiple healed left rib fractures</s>ation</s></s></s></s></s>k</s></s> does</s></s></s></s></s> of</s> nodular</s></s></s></s> a</s></s> fractures and scan</s></s> of</s> correlate on</s> of</s></s></s>anc</s></s> xxxx</s></s></s></s>\n",
      "\n",
      "<s>there has been interval development of multiple healed left rib fractures</s><pad><pad><pad><pad><pad><pad><pad><pad><pad><pad><pad><pad><pad><pad><pad><pad><pad><pad><pad><pad><pad><pad><pad><pad><pad><pad><pad><pad><pad><pad><pad><pad><pad><pad><pad><pad><pad><pad><pad><pad><pad><pad><pad><pad><pad><pad><pad>\n"
     ]
    }
   ],
   "source": [
    "id_ = 4\n",
    "\n",
    "print(tokenizer.decode(predicted_train.argmax(axis=-1)[id_]))\n",
    "print()\n",
    "print(tokenizer.decode(actual_train[id_]))"
   ]
  },
  {
   "cell_type": "code",
   "execution_count": 13,
   "id": "fcb7156a-8559-48e9-9865-28831db89f26",
   "metadata": {},
   "outputs": [],
   "source": [
    "predicted_train = np.concatenate(predicted_train)\n",
    "actual_train = np.concatenate(actual_train)\n",
    "# R = np.concatenate(R)"
   ]
  },
  {
   "cell_type": "code",
   "execution_count": 14,
   "id": "0402223d-baf4-400f-877b-786bcdb601af",
   "metadata": {},
   "outputs": [
    {
     "data": {
      "text/plain": [
       "(1937, 60, 3160)"
      ]
     },
     "execution_count": 14,
     "metadata": {},
     "output_type": "execute_result"
    }
   ],
   "source": [
    "predicted_train.shape"
   ]
  },
  {
   "cell_type": "code",
   "execution_count": 15,
   "id": "39543202-9bc3-4740-a5c4-38398f0941bd",
   "metadata": {},
   "outputs": [
    {
     "data": {
      "text/plain": [
       "array([[ 267,  527,  299, ...,    2,    2,  269],\n",
       "       [ 267,  286,  332, ...,    2,  291,  557],\n",
       "       [ 267,  527,  465, ...,    2, 1568,  557],\n",
       "       ...,\n",
       "       [ 267, 2041,  857, ...,    2, 1224,  863],\n",
       "       [ 267,  286,  815, ...,    2,    2,    2],\n",
       "       [ 267,  527,  300, ...,    2,    2,    2]], dtype=int64)"
      ]
     },
     "execution_count": 15,
     "metadata": {},
     "output_type": "execute_result"
    }
   ],
   "source": [
    "predicted_train.argmax(axis=-1)"
   ]
  },
  {
   "cell_type": "code",
   "execution_count": 20,
   "id": "cbc9e3cf-ca86-4d57-83aa-91af37a7ae36",
   "metadata": {},
   "outputs": [
    {
     "name": "stdout",
     "output_type": "stream",
     "text": [
      "Actual Sentence: no focal consolidation pleural effusion or pneumothorax identified\n",
      "Predicted Sentence: the focal consolidation pleural effusion or pneumothorax identified\n",
      "0.8408964152537145\n"
     ]
    }
   ],
   "source": [
    "id_ = 4\n",
    "\n",
    "ref = actual_train[id_]\n",
    "cad = predicted_train.argmax(axis=-1)[id_]\n",
    "\n",
    "ref_eos = np.argwhere(ref==2).min()\n",
    "cad_eos = np.argwhere(cad==2).min()\n",
    "\n",
    "ref_sent = tokenizer.decode(ref[1: ref_eos])\n",
    "cad_sent = tokenizer.decode(cad[0: cad_eos])\n",
    "\n",
    "print(\"Actual Sentence: {}\".format(ref_sent))\n",
    "print(\"Predicted Sentence: {}\".format(cad_sent))\n",
    "\n",
    "score = sentence_bleu([ref_sent.split()], cad_sent.split())\n",
    "print(score)"
   ]
  },
  {
   "cell_type": "code",
   "execution_count": 93,
   "id": "b24790b2-57dd-43e3-b803-beeda68b1a80",
   "metadata": {},
   "outputs": [],
   "source": [
    "scores1 = []\n",
    "scores2 = []\n",
    "for id_ in range(predicted_train.shape[0]):\n",
    "    ref = actual_train[id_]\n",
    "    cad = predicted_train.argmax(axis=-1)[id_]\n",
    "\n",
    "    ref_eos = np.argwhere(ref==2).min()\n",
    "    cad_eos = np.argwhere(cad==2).min()\n",
    "\n",
    "    ref_sent = tokenizer.decode(ref[1: ref_eos])\n",
    "    cad_sent = tokenizer.decode(cad[0: cad_eos])\n",
    "\n",
    "    score1 = sentence_bleu([ref_sent.split()], cad_sent.split())\n",
    "    score2 = sentence_bleu([cad_sent.split()], ref_sent.split())\n",
    "    scores1.append(score1)\n",
    "    scores2.append(score2)"
   ]
  },
  {
   "cell_type": "code",
   "execution_count": 96,
   "id": "83d56f56-d26e-445d-9c36-a3ad861c858a",
   "metadata": {},
   "outputs": [
    {
     "name": "stdout",
     "output_type": "stream",
     "text": [
      "0.1729825633391337\n",
      "0.17277915419960327\n"
     ]
    }
   ],
   "source": [
    "print(np.array(scores1).mean())\n",
    "print(np.array(scores2).mean())"
   ]
  },
  {
   "cell_type": "markdown",
   "id": "9136228e-9fc3-49a8-b268-cf090dd99cbd",
   "metadata": {},
   "source": [
    "# Latent Space"
   ]
  },
  {
   "cell_type": "code",
   "execution_count": null,
   "id": "62784231-47e1-4830-a784-154dced26a58",
   "metadata": {},
   "outputs": [],
   "source": [
    "model.output = nn.Sequential(*list(model.output.children())[:-1])\n",
    "model.eval()\n",
    "model.to(device)"
   ]
  },
  {
   "cell_type": "code",
   "execution_count": 43,
   "id": "8742c102-a893-4110-ad54-0ce969dea66b",
   "metadata": {},
   "outputs": [],
   "source": [
    "latent_space = []\n",
    "check_label = []\n",
    "for X, y, id_, len_y in train_loader:  # Iterate in batches over the training/test dataset.\n",
    "    out, hung_loss = model(X.to(device), y.to(device), len_y.to(device))\n",
    "    \n",
    "    label = flat_by_lengths_max_t(id_.to(device), len_y.to(device), 18).cpu().detach().numpy()\n",
    "    latent_space.append(out.cpu().detach().numpy())\n",
    "    check_label.append(label)"
   ]
  },
  {
   "cell_type": "code",
   "execution_count": 44,
   "id": "8b2cc162-0efb-4ea0-a316-2d0258052670",
   "metadata": {},
   "outputs": [],
   "source": [
    "latent_space = np.concatenate(latent_space)\n",
    "check_label = np.concatenate(check_label)"
   ]
  },
  {
   "cell_type": "code",
   "execution_count": 45,
   "id": "b339309c-1fec-48bd-a00a-240c945d2089",
   "metadata": {},
   "outputs": [
    {
     "data": {
      "text/plain": [
       "(28844, 128)"
      ]
     },
     "execution_count": 45,
     "metadata": {},
     "output_type": "execute_result"
    }
   ],
   "source": [
    "latent_space.shape"
   ]
  },
  {
   "cell_type": "code",
   "execution_count": 53,
   "id": "b4f113fa-3e2e-486a-b9db-938c75053373",
   "metadata": {},
   "outputs": [
    {
     "data": {
      "text/plain": [
       "(28844,)"
      ]
     },
     "execution_count": 53,
     "metadata": {},
     "output_type": "execute_result"
    }
   ],
   "source": [
    "np.argmax(predicted_train_np, axis=1)"
   ]
  },
  {
   "cell_type": "code",
   "execution_count": 55,
   "id": "189c1a2f-a7eb-4b0e-a803-8d60f323de8a",
   "metadata": {},
   "outputs": [
    {
     "data": {
      "text/plain": [
       "array([[-0.5426403 ,  0.50835794, -0.7050254 , ...,  0.26239976,\n",
       "        -0.6147091 ,  0.24323207],\n",
       "       [-0.54264027,  0.50835776, -0.70502543, ...,  0.26239976,\n",
       "        -0.61470914,  0.24323201],\n",
       "       [-0.5426403 ,  0.5083579 , -0.70502543, ...,  0.2623997 ,\n",
       "        -0.6147091 ,  0.24323204],\n",
       "       ...,\n",
       "       [-0.5426423 ,  0.50835866, -0.70502394, ...,  0.26239997,\n",
       "        -0.6147085 ,  0.24323077],\n",
       "       [-0.54264235,  0.50835884, -0.70502406, ...,  0.26239988,\n",
       "        -0.6147084 ,  0.24323067],\n",
       "       [-0.54264235,  0.5083588 , -0.70502406, ...,  0.26239994,\n",
       "        -0.6147085 ,  0.24323079]], dtype=float32)"
      ]
     },
     "execution_count": 55,
     "metadata": {},
     "output_type": "execute_result"
    }
   ],
   "source": [
    "latent_space"
   ]
  },
  {
   "cell_type": "code",
   "execution_count": 54,
   "id": "efab4ef5-154c-4c6d-8b93-516ed0cfddd1",
   "metadata": {},
   "outputs": [
    {
     "data": {
      "text/plain": [
       "array([[-0.72307193, -0.08381996,  0.7823553 , ..., -3.9740217 ,\n",
       "        -3.860746  , -4.19671   ],\n",
       "       [-0.7230718 , -0.08381993,  0.78235525, ..., -3.9740217 ,\n",
       "        -3.8607454 , -4.19671   ],\n",
       "       [-0.72307193, -0.08381993,  0.78235525, ..., -3.9740214 ,\n",
       "        -3.8607457 , -4.1967106 ],\n",
       "       ...,\n",
       "       [-0.7230713 , -0.08382021,  0.78235614, ..., -3.9740212 ,\n",
       "        -3.8607473 , -4.19671   ],\n",
       "       [-0.7230712 , -0.08382021,  0.782356  , ..., -3.9740214 ,\n",
       "        -3.8607466 , -4.1967096 ],\n",
       "       [-0.7230714 , -0.08382018,  0.7823563 , ..., -3.9740217 ,\n",
       "        -3.8607476 , -4.1967106 ]], dtype=float32)"
      ]
     },
     "execution_count": 54,
     "metadata": {},
     "output_type": "execute_result"
    }
   ],
   "source": [
    "predicted_train_np"
   ]
  },
  {
   "cell_type": "code",
   "execution_count": null,
   "id": "8e3da248-5e0d-49a7-a87e-8ac01448ce5a",
   "metadata": {},
   "outputs": [],
   "source": [
    "metadata_dict = {}\n",
    "metadata_dict['label'] = label\n",
    "metadata_dict['error'] = error"
   ]
  }
 ],
 "metadata": {
  "kernelspec": {
   "display_name": "X-ray_CUDA",
   "language": "python",
   "name": "x-ray_cuda"
  },
  "language_info": {
   "codemirror_mode": {
    "name": "ipython",
    "version": 3
   },
   "file_extension": ".py",
   "mimetype": "text/x-python",
   "name": "python",
   "nbconvert_exporter": "python",
   "pygments_lexer": "ipython3",
   "version": "3.7.11"
  }
 },
 "nbformat": 4,
 "nbformat_minor": 5
}
