{
 "cells": [
  {
   "cell_type": "code",
   "execution_count": 1,
   "id": "53345fa3-2688-44b3-a5b4-3f00705c8de2",
   "metadata": {},
   "outputs": [],
   "source": [
    "import torch\n",
    "import torch.nn as nn\n",
    "import torchvision.transforms as T\n",
    "from torch.utils.data import Dataset, DataLoader\n",
    "from torch.optim.lr_scheduler import ReduceLROnPlateau\n",
    "from torchvision.models import resnet50\n",
    "import numpy as np\n",
    "import pandas as pd\n",
    "import cv2\n",
    "import os\n",
    "import pickle\n",
    "import torch.nn.functional as F\n",
    "from torch.utils.tensorboard import SummaryWriter\n",
    "from PIL import Image\n",
    "import matplotlib.pyplot as plt\n",
    "from sentence_transformers import SentenceTransformer\n",
    "from transformers import XLNetConfig, AutoConfig\n",
    "from torchsummary import summary\n",
    "from tensorboard.plugins import projector\n",
    "from scipy.optimize import linear_sum_assignment\n",
    "from utils.utils import *\n",
    "from utils.assignment import *\n",
    "from utils.latent_loss import *\n",
    "from model.model import *"
   ]
  },
  {
   "cell_type": "code",
   "execution_count": 55,
   "id": "d3b37eba-2bd6-4ef3-a807-41b1d1ee6c21",
   "metadata": {},
   "outputs": [],
   "source": [
    "model = SentenceTransformer('paraphrase-MiniLM-L6-v2')"
   ]
  },
  {
   "cell_type": "code",
   "execution_count": 28,
   "id": "9f093b48-b0b3-4abd-a6f6-b8b56af26c5c",
   "metadata": {},
   "outputs": [
    {
     "name": "stdout",
     "output_type": "stream",
     "text": [
      "['T_destination', '__annotations__', '__call__', '__class__', '__delattr__', '__delitem__', '__dict__', '__dir__', '__doc__', '__eq__', '__format__', '__ge__', '__getattr__', '__getattribute__', '__getitem__', '__gt__', '__hash__', '__init__', '__init_subclass__', '__iter__', '__le__', '__len__', '__lt__', '__module__', '__ne__', '__new__', '__reduce__', '__reduce_ex__', '__repr__', '__setattr__', '__setitem__', '__setstate__', '__sizeof__', '__str__', '__subclasshook__', '__weakref__', '_apply', '_backward_hooks', '_buffers', '_call_impl', '_create_model_card', '_encode_multi_process_worker', '_eval_during_training', '_first_module', '_forward_hooks', '_forward_pre_hooks', '_get_backward_hooks', '_get_item_by_idx', '_get_name', '_get_scheduler', '_is_full_backward_hook', '_last_module', '_load_auto_model', '_load_from_state_dict', '_load_sbert_model', '_load_state_dict_pre_hooks', '_maybe_warn_non_full_backward_hook', '_model_card_text', '_model_card_vars', '_model_config', '_modules', '_named_members', '_non_persistent_buffers_set', '_parameters', '_register_load_state_dict_pre_hook', '_register_state_dict_hook', '_replicate_for_data_parallel', '_save_checkpoint', '_save_to_state_dict', '_slow_forward', '_state_dict_hooks', '_target_device', '_text_length', '_version', 'add_module', 'apply', 'bfloat16', 'buffers', 'children', 'cpu', 'cuda', 'device', 'double', 'dump_patches', 'encode', 'encode_multi_process', 'eval', 'evaluate', 'extra_repr', 'fit', 'float', 'forward', 'get_buffer', 'get_extra_state', 'get_max_seq_length', 'get_parameter', 'get_sentence_embedding_dimension', 'get_sentence_features', 'get_submodule', 'half', 'load_state_dict', 'max_seq_length', 'modules', 'named_buffers', 'named_children', 'named_modules', 'named_parameters', 'parameters', 'register_backward_hook', 'register_buffer', 'register_forward_hook', 'register_forward_pre_hook', 'register_full_backward_hook', 'register_parameter', 'requires_grad_', 'save', 'save_to_hub', 'set_extra_state', 'share_memory', 'smart_batching_collate', 'start_multi_process_pool', 'state_dict', 'stop_multi_process_pool', 'to', 'to_empty', 'tokenize', 'tokenizer', 'train', 'training', 'type', 'xpu', 'zero_grad']\n"
     ]
    }
   ],
   "source": [
    "print(model.__dir__())"
   ]
  },
  {
   "cell_type": "code",
   "execution_count": 59,
   "id": "f6cee0ea-42af-47ae-888c-8a00238bdcae",
   "metadata": {},
   "outputs": [
    {
     "data": {
      "text/plain": [
       "array([[ 3.86125475e-01,  1.40250161e-01,  5.06075263e-01,\n",
       "        -2.19621509e-02, -2.56164730e-01, -1.98242664e-01,\n",
       "         6.74597561e-01,  2.91276366e-01,  4.09284890e-01,\n",
       "         3.16677034e-01, -2.58884788e-01, -6.35096908e-01,\n",
       "        -2.58912481e-02, -2.87423015e-01,  1.77115589e-01,\n",
       "         2.63960183e-01,  3.24184239e-01, -2.63321251e-01,\n",
       "        -8.26127753e-02, -4.34223592e-01, -5.13686180e-01,\n",
       "         3.45623970e-01, -2.52173036e-01, -9.08253342e-03,\n",
       "        -2.65088856e-01, -2.10384920e-01, -4.18871552e-01,\n",
       "        -2.09073294e-02,  1.04215741e-01, -3.42413843e-01,\n",
       "         5.26932999e-02,  3.95270698e-02,  7.64830709e-01,\n",
       "        -7.80024156e-02,  3.99862528e-02,  3.74262601e-01,\n",
       "         5.27301192e-01,  1.74817413e-01,  1.06228635e-01,\n",
       "         1.78758636e-01,  1.99670106e-01, -3.38200808e-01,\n",
       "         3.22176367e-01, -9.22024474e-02,  2.26492196e-01,\n",
       "        -3.44647139e-01,  2.18241662e-01, -1.73209518e-01,\n",
       "         1.79794073e-01,  3.63359064e-01, -3.34206283e-01,\n",
       "         1.90749958e-01, -1.58488676e-01,  1.56166881e-01,\n",
       "        -2.95683481e-02,  8.93178433e-02,  5.63205294e-02,\n",
       "         2.47960135e-01,  3.60618122e-02,  2.08752658e-02,\n",
       "         2.71690249e-01,  2.18500337e-03, -4.03206527e-01,\n",
       "         5.97000718e-01,  3.05363446e-01, -1.65118128e-01,\n",
       "         2.82292757e-02, -6.61212206e-02, -5.73464274e-01,\n",
       "        -2.25560099e-01, -4.15641069e-02, -1.07794646e-02,\n",
       "        -1.82102263e-01,  3.69747102e-01, -7.68638924e-02,\n",
       "        -1.76067337e-01, -2.35009044e-02, -4.52660948e-01,\n",
       "         4.16865677e-01,  4.83744711e-01,  8.23523477e-02,\n",
       "        -2.80890256e-01, -5.08772433e-02,  1.98686117e-04,\n",
       "        -1.60872549e-01, -3.50550443e-01,  2.09107727e-01,\n",
       "         8.54221344e-01,  7.51925856e-02, -5.20128384e-02,\n",
       "        -3.61797512e-01, -2.03607492e-02,  2.88100839e-02,\n",
       "         1.62644237e-02,  6.52146280e-01, -1.69594646e-01,\n",
       "         1.83425471e-01, -5.20157397e-01, -8.12554538e-01,\n",
       "         7.52524436e-01, -1.03422724e-01, -2.08844110e-01,\n",
       "        -5.59118509e-01, -1.00453757e-01,  1.39454275e-01,\n",
       "        -1.89452976e-01, -3.74378026e-01,  8.33024234e-02,\n",
       "        -6.99314252e-02, -4.60855141e-02, -5.07056117e-01,\n",
       "        -2.36912727e-01, -1.90074578e-01,  1.87726021e-01,\n",
       "         1.92040041e-01,  1.77317977e-01, -5.93956828e-01,\n",
       "         6.58914924e-01,  6.57965779e-01, -4.80644479e-02,\n",
       "        -1.52386189e-01,  5.84665775e-01, -1.40920952e-01,\n",
       "        -4.89588454e-02, -4.29393858e-01, -2.80954748e-01,\n",
       "         5.56747258e-01,  2.68323898e-01, -3.48505884e-01,\n",
       "         5.53118825e-01,  1.49774820e-01,  2.97672629e-01,\n",
       "        -5.81453815e-02,  3.32989395e-01, -1.38357386e-01,\n",
       "        -4.27447081e-01,  4.08003032e-01, -2.97866851e-01,\n",
       "         5.74898496e-02, -3.07567567e-02, -1.74672648e-01,\n",
       "         1.82690337e-01,  1.02502570e-01,  5.13817191e-01,\n",
       "         2.55560219e-01, -6.96200788e-01,  2.21118286e-01,\n",
       "         3.12205315e-01, -1.21333953e-02, -3.28268319e-01,\n",
       "        -2.39352420e-01, -2.46351004e-01,  3.14337820e-01,\n",
       "         5.04487474e-03, -1.39249951e-01, -4.90384817e-01,\n",
       "         2.85729319e-01,  2.79241651e-01, -1.73695385e-02,\n",
       "         3.74905288e-01, -4.32147413e-01, -1.47844091e-01,\n",
       "         6.12624645e-01, -7.45340168e-01,  2.09855914e-01,\n",
       "        -3.22121680e-01,  4.99406815e-01, -1.20134369e-01,\n",
       "        -6.01643443e-01,  1.98490411e-01, -3.45608890e-01,\n",
       "         1.49907753e-01,  6.03472114e-01, -1.17493115e-01,\n",
       "         1.58214882e-01,  1.37127072e-01, -1.32704183e-01,\n",
       "         3.18239391e-01, -1.37033194e-01, -2.19770312e-01,\n",
       "        -4.16951329e-02, -5.86859107e-01, -1.83726162e-01,\n",
       "        -2.58291364e-01,  2.39928529e-01,  6.42929256e-01,\n",
       "        -3.94061863e-01, -1.79149304e-02, -2.23969296e-01,\n",
       "         7.84941316e-02, -7.74720788e-01,  4.62562472e-01,\n",
       "        -6.39643312e-01,  8.68099406e-02, -3.47827613e-01,\n",
       "         2.56953895e-01,  8.46806347e-01, -2.39678189e-01,\n",
       "         1.81294054e-01, -1.38444200e-01, -7.74690732e-02,\n",
       "         4.80403483e-01,  4.40147966e-01, -3.51118475e-01,\n",
       "         2.24378347e-01, -2.21503705e-01,  1.22890528e-02,\n",
       "         2.59495258e-01, -1.28476381e-01,  4.09960091e-01,\n",
       "        -3.26056063e-01,  2.02101320e-01,  3.64702970e-01,\n",
       "        -2.87472457e-01,  1.58460781e-01,  8.56866613e-02,\n",
       "         7.26888180e-01,  6.33488059e-01, -2.18534201e-01,\n",
       "         4.62076673e-03,  2.11829245e-02,  1.73657864e-01,\n",
       "         1.06327392e-01, -4.12138164e-01,  2.10198879e-01,\n",
       "         1.19233849e-02, -2.08367105e-03, -8.47913623e-02,\n",
       "         9.73495841e-02, -6.21351063e-01,  4.58179235e-01,\n",
       "         3.09242364e-02, -1.29685700e-01,  1.47551462e-01,\n",
       "        -4.89869922e-01, -1.48162007e-01, -5.05635329e-02,\n",
       "        -4.51073945e-01, -3.29937249e-01, -5.54219425e-01,\n",
       "        -6.70976052e-03,  2.05079839e-01, -1.34439632e-01,\n",
       "        -2.79509455e-01, -3.13014090e-01,  9.41974521e-01,\n",
       "        -1.58865958e-01, -2.42106803e-02, -2.57300198e-01,\n",
       "         6.64291859e-01, -1.74909130e-01,  9.56861973e-02,\n",
       "        -5.78972340e-01, -1.12547219e-01, -4.23898369e-01,\n",
       "        -5.99045753e-02, -3.01165342e-01, -1.24600530e-01,\n",
       "         1.58111453e-01,  1.63570195e-01,  3.55250329e-01,\n",
       "        -1.00062799e+00,  2.21312158e-02, -3.62394810e-01,\n",
       "         1.58141609e-02, -2.61213094e-01,  3.82314146e-01,\n",
       "         7.03896880e-01, -1.03131451e-01, -2.60394782e-01,\n",
       "        -3.66322458e-01, -6.68740943e-02,  4.78516191e-01,\n",
       "         2.64506675e-02, -1.03033614e+00, -5.40403128e-01,\n",
       "         2.58934915e-01, -1.76600948e-01, -2.34486274e-02,\n",
       "        -1.70605853e-01,  4.63542849e-01, -5.12053847e-01,\n",
       "        -1.28216133e-01,  1.67463169e-01, -4.93214190e-01,\n",
       "         3.00143450e-01,  2.58686483e-01,  6.15427196e-01,\n",
       "         2.68962026e-01,  2.27438696e-02, -2.00930074e-01,\n",
       "         2.83255100e-01, -4.26107705e-01,  1.81488901e-01,\n",
       "         3.36499214e-01,  4.63216901e-02, -5.20909190e-01,\n",
       "         1.35508388e-01,  1.15046166e-01, -8.03225636e-01,\n",
       "         1.96748257e-01,  2.47376919e-01, -1.33030102e-01,\n",
       "        -5.02575457e-01, -2.93894202e-01, -1.24115944e-01,\n",
       "         2.50975072e-01,  3.54973786e-02, -1.43716067e-01,\n",
       "         7.81123266e-02,  3.66217166e-01, -3.29418898e-01,\n",
       "        -9.48498212e-03, -2.78820395e-01,  7.35282302e-02,\n",
       "         1.19828209e-01, -6.59384251e-01, -8.15541267e-01,\n",
       "        -7.27202296e-02, -3.09098721e-01,  1.63268596e-01,\n",
       "        -2.22520798e-01,  2.51401991e-01, -4.20508385e-02,\n",
       "         7.62561262e-02,  3.24221015e-01, -6.02542579e-01,\n",
       "        -6.33154869e-01, -2.18371544e-02, -4.34803665e-01,\n",
       "        -1.83417164e-02, -3.37445527e-01,  5.43813184e-02,\n",
       "        -3.88355345e-01,  8.42586219e-01,  3.90539587e-01,\n",
       "         4.38828886e-01, -7.42667988e-02, -4.22671080e-01,\n",
       "         6.73587397e-02, -3.44356289e-03,  7.18272179e-02,\n",
       "        -1.15342833e-01,  3.61976594e-01,  4.90623236e-01,\n",
       "        -7.94375986e-02,  3.69934022e-01, -1.05524480e-01,\n",
       "        -3.67039770e-01,  4.15004432e-01, -2.41522156e-02,\n",
       "         3.97867084e-01, -3.87604058e-01,  5.40359393e-02,\n",
       "         4.58406135e-02, -8.97747427e-02,  6.14690483e-01,\n",
       "        -1.66759908e-01,  4.79634672e-01, -5.24954140e-01,\n",
       "         3.28849137e-01,  3.81187141e-01,  2.94194460e-01,\n",
       "         1.04049242e+00, -1.41915590e-01,  4.41973358e-01,\n",
       "         1.06370091e-01,  2.98147142e-01, -2.15590447e-01,\n",
       "         1.29379034e-01,  1.93718359e-01, -3.21891606e-01,\n",
       "         4.60777819e-01,  1.46512035e-02, -7.07075298e-02,\n",
       "         3.55152756e-01,  1.87307671e-01,  2.36445948e-01,\n",
       "        -3.21994066e-01,  2.42506653e-01,  3.99441063e-01,\n",
       "        -3.39868486e-01,  4.67652977e-01, -4.08135116e-01]], dtype=float32)"
      ]
     },
     "execution_count": 59,
     "metadata": {},
     "output_type": "execute_result"
    }
   ],
   "source": [
    "model.encode(['i am a'])"
   ]
  },
  {
   "cell_type": "code",
   "execution_count": 84,
   "id": "d27360d6-4131-4364-a594-a9c87cc2db84",
   "metadata": {},
   "outputs": [
    {
     "name": "stdout",
     "output_type": "stream",
     "text": [
      "{'input_ids': [101, 1045, 2572, 1037, 102], 'token_type_ids': [0, 0, 0, 0, 0], 'attention_mask': [1, 1, 1, 1, 1]}\n"
     ]
    },
    {
     "ename": "IndexError",
     "evalue": "too many indices for tensor of dimension 1",
     "output_type": "error",
     "traceback": [
      "\u001b[1;31m---------------------------------------------------------------------------\u001b[0m",
      "\u001b[1;31mIndexError\u001b[0m                                Traceback (most recent call last)",
      "\u001b[1;32m~\\AppData\\Local\\Temp/ipykernel_15804/2825488789.py\u001b[0m in \u001b[0;36m<module>\u001b[1;34m\u001b[0m\n\u001b[0;32m      3\u001b[0m \u001b[0ma\u001b[0m \u001b[1;33m=\u001b[0m \u001b[0mmodel\u001b[0m\u001b[1;33m.\u001b[0m\u001b[0mtokenizer\u001b[0m\u001b[1;33m(\u001b[0m\u001b[1;34m'i am a'\u001b[0m\u001b[1;33m)\u001b[0m\u001b[1;33m\u001b[0m\u001b[1;33m\u001b[0m\u001b[0m\n\u001b[0;32m      4\u001b[0m \u001b[1;32mfor\u001b[0m \u001b[0mi\u001b[0m \u001b[1;32min\u001b[0m \u001b[0ma\u001b[0m\u001b[1;33m:\u001b[0m\u001b[1;33m\u001b[0m\u001b[1;33m\u001b[0m\u001b[0m\n\u001b[1;32m----> 5\u001b[1;33m     \u001b[0ma\u001b[0m \u001b[1;33m=\u001b[0m \u001b[0mtorch\u001b[0m\u001b[1;33m.\u001b[0m\u001b[0mtensor\u001b[0m\u001b[1;33m(\u001b[0m\u001b[0ma\u001b[0m\u001b[1;33m[\u001b[0m\u001b[0mi\u001b[0m\u001b[1;33m]\u001b[0m\u001b[1;33m)\u001b[0m\u001b[1;33m\u001b[0m\u001b[1;33m\u001b[0m\u001b[0m\n\u001b[0m\u001b[0;32m      6\u001b[0m \u001b[0mprint\u001b[0m\u001b[1;33m(\u001b[0m\u001b[0ma\u001b[0m\u001b[1;33m)\u001b[0m\u001b[1;33m\u001b[0m\u001b[1;33m\u001b[0m\u001b[0m\n\u001b[0;32m      7\u001b[0m \u001b[1;31m# print(model.forward(model.tokenizer('i am a')))\u001b[0m\u001b[1;33m\u001b[0m\u001b[1;33m\u001b[0m\u001b[1;33m\u001b[0m\u001b[0m\n",
      "\u001b[1;31mIndexError\u001b[0m: too many indices for tensor of dimension 1"
     ]
    }
   ],
   "source": [
    "# a = model.tokenize('i am a')\n",
    "print(model.tokenizer('i am a'))\n",
    "a = model.tokenizer('i am a')\n",
    "for i in a:\n",
    "    a = torch.tensor(a[i])\n",
    "print(a)\n",
    "# print(model.forward(model.tokenizer('i am a')))"
   ]
  }
 ],
 "metadata": {
  "kernelspec": {
   "display_name": "X-ray_CUDA",
   "language": "python",
   "name": "x-ray_cuda"
  },
  "language_info": {
   "codemirror_mode": {
    "name": "ipython",
    "version": 3
   },
   "file_extension": ".py",
   "mimetype": "text/x-python",
   "name": "python",
   "nbconvert_exporter": "python",
   "pygments_lexer": "ipython3",
   "version": "3.7.11"
  }
 },
 "nbformat": 4,
 "nbformat_minor": 5
}
